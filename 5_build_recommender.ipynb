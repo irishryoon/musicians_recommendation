{
 "cells": [
  {
   "cell_type": "markdown",
   "metadata": {},
   "source": [
    "# 5. Build recommender\n",
    "In this notebook, I build the classical musician recommender using the selected Word2Vec model and prepare for the recommendation app.\n",
    "\n",
    "#### The recommender\n",
    "* Input: A list of user's favorite artists.\n",
    "* Method: Find the vector representations of the input artists from Word2Vec and compute average.\n",
    "* Output: Return artists that are close to the computed average\n",
    "\n",
    "The recommendation is implemented by the `recommend_artists` function in `musicians.py`.\n",
    "\n",
    "#### App preparation\n",
    "I plan on implementing my recommender via a Streamlit app. I'm planning on using Streamlit's \"multiselect\" feature to allow users to select their favorite artists. Since Streamlit's \"multiselect\" feature can be extremely slow, I decided to decrease the number of artists available by selecting only the artists with a high enough degree in the musicians graph."
   ]
  },
  {
   "cell_type": "code",
   "execution_count": null,
   "metadata": {},
   "outputs": [],
   "source": [
    "import networkx as nx \n",
    "import pickle\n",
    "\n",
    "from gensim.models import Word2Vec, KeyedVectors\n",
    "from musicians import *"
   ]
  },
  {
   "cell_type": "code",
   "execution_count": 2,
   "metadata": {},
   "outputs": [],
   "source": [
    "### Load data\n",
    "# load selected Word2Vec model\n",
    "word_vectors = KeyedVectors.load(\"graph_80000/selected_model/word2vec.wordvectors\", mmap = 'r')\n",
    "\n",
    "# load dictionaries for ID:name correspondence\n",
    "with open('graph_80000/ID_name.pkl', 'rb') as f:\n",
    "    ID_name = pickle.load(f)\n",
    "with open('graph_80000/name_ID.pkl', 'rb') as f:\n",
    "    name_ID = pickle.load(f)\n",
    "    "
   ]
  },
  {
   "cell_type": "markdown",
   "metadata": {},
   "source": [
    "## (a) Build & examine the recommender\n",
    "The code for the recommender can be found in `recommend_artists` in `musicians.py`."
   ]
  },
  {
   "cell_type": "code",
   "execution_count": 3,
   "metadata": {},
   "outputs": [
    {
     "data": {
      "text/plain": [
       "['Andreas Haefliger',\n",
       " 'Radu Lupu',\n",
       " 'Hiroko Ehara',\n",
       " 'Stephen Kovacevich',\n",
       " 'Maurizio Pollini',\n",
       " 'Murray Perahia',\n",
       " 'Yvonne Lefébure',\n",
       " 'Richard Goode',\n",
       " 'Martha Argerich',\n",
       " 'Yukio Yokoyama',\n",
       " 'Hisako Kawamura',\n",
       " 'Claude Frank',\n",
       " 'Misha Goldstein',\n",
       " 'Suske Quartett',\n",
       " 'Elly Ney',\n",
       " 'Leonard Shure',\n",
       " 'Francesco Piemontesi',\n",
       " 'Benjamin Hochman',\n",
       " 'Seong-Jin Cho',\n",
       " 'Friedrich Gulda']"
      ]
     },
     "execution_count": 3,
     "metadata": {},
     "output_type": "execute_result"
    }
   ],
   "source": [
    "# selected model \n",
    "favorites = ['Mitsuko Uchida', 'Krystian Zimerman']\n",
    "favorites_ID = [name_ID[item] for item in favorites]\n",
    "recommend_artists(favorites_ID, word_vectors, ID_name, 20)"
   ]
  },
  {
   "cell_type": "markdown",
   "metadata": {},
   "source": [
    "## (b) Prepare for recommendation in app\n",
    "* The artist recommender will be presented as a Streamlit app, where the user will be able to select various artists that they enjoy listening to.\n",
    "* Unfortunately, Streamlit's \"multiselect\" feature can be extremely slow for a large list.\n",
    "* I thus decided to decrease the number of artists available for selection in the Streamlit app for time efficiency purposes. \n",
    "* I decided to select artists with high degree in the artist graph. That is, I selected artists that have at least 21 collaborators."
   ]
  },
  {
   "cell_type": "code",
   "execution_count": 50,
   "metadata": {},
   "outputs": [],
   "source": [
    "# specify min degree\n",
    "min_degree = 11"
   ]
  },
  {
   "cell_type": "code",
   "execution_count": 5,
   "metadata": {},
   "outputs": [],
   "source": [
    "### load graph\n",
    "G = nx.read_gml(\"graph_80000/graph.gml\")\n",
    "# convert edge's 'album' attribute from list to set\n",
    "for n1,n2,edge in G.edges(data=True):\n",
    "    edge['albums'] = set(edge['albums'])"
   ]
  },
  {
   "cell_type": "code",
   "execution_count": 51,
   "metadata": {},
   "outputs": [
    {
     "name": "stdout",
     "output_type": "stream",
     "text": [
      "number of artists:  53945\n"
     ]
    }
   ],
   "source": [
    "# order artists based on degree\n",
    "artists_degree = dict()\n",
    "for ID in ID_name:\n",
    "    deg = G.degree(ID) if type(G.degree(ID)) == int else 0\n",
    "    artists_degree[ID] = deg\n",
    "\n",
    "# select artists with high degrees\n",
    "high_degree = set()\n",
    "for (key, item) in artists_degree.items():\n",
    "    if item >= min_degree:\n",
    "        high_degree.add(key)\n",
    "        \n",
    "# get the names of selected artists with high degree\n",
    "name_ID_small = dict()\n",
    "for (name, ID) in name_ID.items():\n",
    "    if ID in high_degree:\n",
    "        name_ID_small[name] = ID\n",
    "        \n",
    "# get dictionary ID:name\n",
    "ID_name_small = {ID:name for (name, ID) in name_ID_small.items()}\n",
    "\n",
    "print(\"number of artists: \", len(name_ID_small))"
   ]
  },
  {
   "cell_type": "code",
   "execution_count": 49,
   "metadata": {},
   "outputs": [],
   "source": [
    "# save small dictionary\n",
    "#with open('app/artists.pickle', 'wb') as f:\n",
    "#    pickle.dump(name_ID_small, f)"
   ]
  }
 ],
 "metadata": {
  "kernelspec": {
   "display_name": "Python 3 (ipykernel)",
   "language": "python",
   "name": "python3"
  },
  "language_info": {
   "codemirror_mode": {
    "name": "ipython",
    "version": 3
   },
   "file_extension": ".py",
   "mimetype": "text/x-python",
   "name": "python",
   "nbconvert_exporter": "python",
   "pygments_lexer": "ipython3",
   "version": "3.8.3"
  }
 },
 "nbformat": 4,
 "nbformat_minor": 4
}
