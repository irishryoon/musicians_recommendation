{
 "cells": [
  {
   "cell_type": "markdown",
   "metadata": {},
   "source": [
    "# 1. Build artist graph  \n",
    "This notebook illustrates the process of building the artist graph that represents artists and their collaborations network. I used [Spotipy](https://spotipy.readthedocs.io/en/2.18.0/) to explore artists and their collaborators in a breadth-first search manner.\n",
    "\n",
    "## The graph `G`\n",
    "* The nodes represent artists.\n",
    "* There exsits an edge `E(X,Y)` between nodes `X` and `Y` if the corresponding artists have a collaborative recording on Spotify.\n",
    "* The edge weight between nodes `X` and `Y` is the number of collaborative albums between artists `X` and `Y`. \n",
    "* Each edge `E(X,Y)` contains an `album` attribute, which is a set of collaborative albums found between artist `X` and `Y`. It was necessary to keep the `album` attribute so that no album is double-counted for the weight. Note that the edge weight is equal to the size of the `album` attribute. \n",
    "\n",
    "## Graph building process: BFS\n",
    "* Given a start artist, the graph `G` is built by exploring an artist's collaborators in a BFS way. \n",
    "* In particular, I repeated the following process for every artist in queue.\n",
    "```\n",
    "visit artist X\n",
    "find collaborative albums of artist X\n",
    "    for each collaborative album A:\n",
    "        for each artist Y in album A:\n",
    "            create node for artist Y (if necessary)\n",
    "            create edge E(X,Y) between X and Y (if necessary)\n",
    "            add album A to the album attribute of edge E(X,Y)\n",
    "            add artist Y to queue if Y hasn't been visited\n",
    "```\n",
    "* After exploring sufficient number of artists, define the `weight` attribute of each edge to be the number of albums between two nodes. \n",
    "* I also kept a dictionary of artists names and their Spotify IDs.\n",
    "* For details, see function `continue_building_graph` in `musicians.py`.\n",
    "    \n",
    "## Criteria for a collaborative album\n",
    "* I defined an album `A` to be a collaborative album between artists `X` and `Y` if there exists a track in album `A` with both `X` and `Y` as the artists. \n",
    "* I chose such definition because simply using the `album artist` attribute can overestimate collaboration among artists. There are numerous classical music albums that are compilations of recordings by various artists without having any collaborative recordings among the artists. For example, albums like 'Greatest Classical Music' or 'Classical Christmas' may contain individual tracks by artist `X` and `Y` without having any tracks that have both `X` and `Y` as the artist. My definition ensures that we don't count such albums as a collaboration between artist `X` and `Y`. \n",
    " \n",
    "\n",
    "## Summary\n",
    "* I built the artist graph by visiting 80,000 artists. \n",
    "* The resulting graph consists of ~188,000 nodes. Note that the number of nodes is larger than 80,000 since the resulting graph contains all 80,000 artists and their collaborators. "
   ]
  },
  {
   "cell_type": "code",
   "execution_count": null,
   "metadata": {},
   "outputs": [],
   "source": [
    "%load_ext autoreload\n",
    "%autoreload 2\n",
    "\n",
    "import networkx as nx \n",
    "import pickle\n",
    "import spotipy\n",
    "\n",
    "from collections import deque\n",
    "from spotipy.oauth2 import SpotifyClientCredentials\n",
    "from musicians import *"
   ]
  },
  {
   "cell_type": "code",
   "execution_count": 2,
   "metadata": {},
   "outputs": [],
   "source": [
    "# Connect to Spotify Web API\n",
    "cid =\"\" \n",
    "secret = \"\" \n",
    "\n",
    "auth_manager = SpotifyClientCredentials(client_id=cid, client_secret=secret) \n",
    "sp = spotipy.Spotify(auth_manager=auth_manager)"
   ]
  },
  {
   "cell_type": "code",
   "execution_count": 35,
   "metadata": {},
   "outputs": [],
   "source": [
    "# specify start artist\n",
    "Gilels_uri = '21h8E3aA7a9mjcUHbLpjxf'\n",
    "\n",
    "# build graph\n",
    "G, Q, visited, ID_name = build_graph(Gilels_uri, 80000, sp)"
   ]
  },
  {
   "cell_type": "code",
   "execution_count": 46,
   "metadata": {},
   "outputs": [],
   "source": [
    "# Create dictionary of artist name : ID \n",
    "# for names with multiple IDs, choose the ID that has the highest degree in G\n",
    "\n",
    "name_ID = dict()\n",
    "for (ID, name) in ID_name.items():\n",
    "    if name not in name_ID:\n",
    "        name_ID[name] = ID\n",
    "    else:\n",
    "        # If name already appears in name_ID, compare degrees\n",
    "        old_ID = name_ID[name]\n",
    "            \n",
    "        ID_degree = G.degree(ID) if type(G.degree(ID)) == int else 0 \n",
    "        old_ID_degree = G.degree(old_ID) if type(G.degree(old_ID)) == int else 0\n",
    "\n",
    "        if ID_degree >= old_ID_degree:\n",
    "            name_ID[name] = ID\n",
    "        else:\n",
    "            pass"
   ]
  },
  {
   "cell_type": "code",
   "execution_count": 48,
   "metadata": {},
   "outputs": [
    {
     "name": "stdout",
     "output_type": "stream",
     "text": [
      "number of visited artists: 80000\n",
      "number of nodes in G:  188294\n"
     ]
    }
   ],
   "source": [
    "print('number of visited artists:', len(visited))\n",
    "print('number of nodes in G: ', len(G))"
   ]
  },
  {
   "cell_type": "code",
   "execution_count": null,
   "metadata": {},
   "outputs": [],
   "source": [
    "### save\n",
    "\"\"\"\n",
    "# convert edge's 'album' attribute from set to list\n",
    "for n1,n2,edge in G.edges(data=True):\n",
    "    edge['albums'] = list(edge['albums'])\n",
    "nx.write_gml(G, \"graph_80000/graph.gml\")\n",
    "\n",
    "# save visited artists\n",
    "visited = list(visited)\n",
    "with open('graph_80000/visited_artists_80000.pkl', 'wb') as f:\n",
    "    pickle.dump(visited, f)\n",
    "    \n",
    "# save dictionaries for artist names and IDs    \n",
    "with open('graph_80000/ID_name_80000.pkl', 'wb') as f:\n",
    "    pickle.dump(ID_name, f)\n",
    "with open('graph_80000/name_ID_80000.pkl', 'wb') as f:\n",
    "    pickle.dump(name_ID, f)\n",
    "    \n",
    "# save queue\n",
    "with open('graph_80000/queue_80000.pkl', 'wb') as f:\n",
    "    pickle.dump(unique_artists, f)\n",
    "\"\"\""
   ]
  },
  {
   "cell_type": "markdown",
   "metadata": {},
   "source": [
    "### Optional: Expanding on existing graph\n",
    "One can expand on a previously-built graph by calling the function `continue_building_graph`"
   ]
  },
  {
   "cell_type": "code",
   "execution_count": 5,
   "metadata": {},
   "outputs": [],
   "source": [
    "# load existing graph and data\n",
    "G = nx.read_gml(\"graph_80000/graph.gml\")\n",
    "# convert edge's 'album' attribute from list to set\n",
    "for n1,n2,edge in G.edges(data=True):\n",
    "    edge['albums'] = set(edge['albums'])\n",
    "\n",
    "with open('graph_80000/ID_name.pkl', 'rb') as f:\n",
    "    ID_name = pickle.load(f)\n",
    "    \n",
    "with open('graph_80000/visited_artists.pkl', 'rb') as f:\n",
    "    visited = pickle.load(f)\n",
    "visited = set(visited)\n",
    "\n",
    "with open('graph_80000/queue.pkl', 'rb') as f:\n",
    "    Q = pickle.load(f)\n",
    "Q = deque(Q)"
   ]
  },
  {
   "cell_type": "code",
   "execution_count": null,
   "metadata": {},
   "outputs": [],
   "source": [
    "# visit 1000 more artists and expand the graph G\n",
    "G, Q, visited, ID_name = build_graph(G, Q, visited, ID_name, 1000)"
   ]
  }
 ],
 "metadata": {
  "@webio": {
   "lastCommId": null,
   "lastKernelId": null
  },
  "kernelspec": {
   "display_name": "Python 3 (ipykernel)",
   "language": "python",
   "name": "python3"
  },
  "language_info": {
   "codemirror_mode": {
    "name": "ipython",
    "version": 3
   },
   "file_extension": ".py",
   "mimetype": "text/x-python",
   "name": "python",
   "nbconvert_exporter": "python",
   "pygments_lexer": "ipython3",
   "version": "3.8.3"
  }
 },
 "nbformat": 4,
 "nbformat_minor": 4
}
