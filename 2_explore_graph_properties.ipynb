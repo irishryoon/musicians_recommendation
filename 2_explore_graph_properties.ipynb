{
 "cells": [
  {
   "cell_type": "markdown",
   "metadata": {},
   "source": [
    "# 2. Explore graph properties\n",
    "This notebook contains explorations of some fundamental properties of the musicians graph. \n",
    "\n",
    "## Summary\n",
    "Most artists' degree centrality is close to 0. The few artists that have high degree centrality are composers."
   ]
  },
  {
   "cell_type": "code",
   "execution_count": 1,
   "metadata": {},
   "outputs": [],
   "source": [
    "import matplotlib.pyplot as plt\n",
    "import networkx as nx\n",
    "import pickle\n",
    "plt.style.use('seaborn')"
   ]
  },
  {
   "cell_type": "code",
   "execution_count": 2,
   "metadata": {},
   "outputs": [],
   "source": [
    "# load graph\n",
    "G = nx.read_gml(\"graph_80000/graph.gml\")\n",
    "\n",
    "# load ID_name dictionary\n",
    "with open('graph_80000/ID_name.pkl', 'rb') as f:\n",
    "    ID_name = pickle.load(f)"
   ]
  },
  {
   "cell_type": "markdown",
   "metadata": {},
   "source": [
    "\n",
    "## (a) Some fundamental graph properties"
   ]
  },
  {
   "cell_type": "code",
   "execution_count": 3,
   "metadata": {},
   "outputs": [
    {
     "name": "stdout",
     "output_type": "stream",
     "text": [
      "Number of artists: 188294\n",
      "Number of edges: 1394457\n",
      "Density: 0.000079\n",
      "Average clustering coefficient: 0.630805\n"
     ]
    }
   ],
   "source": [
    "# graph properties\n",
    "print('Number of artists: %i' %G.number_of_nodes())\n",
    "print('Number of edges: %i' %G.number_of_edges())\n",
    "print('Density: %f' %nx.density(G))\n",
    "print('Average clustering coefficient: %f' %nx.average_clustering(G))"
   ]
  },
  {
   "cell_type": "markdown",
   "metadata": {},
   "source": [
    "\n",
    "## (b) Which artists are central?\n",
    "We'll measure centrality of nodes using <b>degree centrality</b>, which is computed as the following.\n",
    "\n",
    "$$\\displaystyle C(v) = \\frac{\\text{number of neighbors}}{\\text{number of possible neighbors}}$$ "
   ]
  },
  {
   "cell_type": "code",
   "execution_count": 4,
   "metadata": {},
   "outputs": [],
   "source": [
    "# compute degree centrality\n",
    "centrality = nx.degree_centrality(G)"
   ]
  },
  {
   "cell_type": "code",
   "execution_count": 5,
   "metadata": {},
   "outputs": [
    {
     "data": {
      "image/png": "[encoded data removed]",
      "text/plain": [
       "<Figure size 576x396 with 1 Axes>"
      ]
     },
     "metadata": {},
     "output_type": "display_data"
    },
    {
     "name": "stdout",
     "output_type": "stream",
     "text": [
      "maximum degree centrality:  0.062025672754696136\n",
      "minimum degree centrality:  5.310871885837498e-06\n"
     ]
    }
   ],
   "source": [
    "# plot histogram of degree centrality\n",
    "centrality_vals = [value for (key, value) in centrality.items()]\n",
    "plt.hist(centrality_vals, bins = 30)\n",
    "plt.title('Histogram of degree centrality')\n",
    "plt.show()\n",
    "\n",
    "print(\"maximum degree centrality: \", max(centrality_vals))\n",
    "print(\"minimum degree centrality: \", min(centrality_vals))"
   ]
  },
  {
   "cell_type": "markdown",
   "metadata": {},
   "source": [
    "As shown by the above histogram, most artists' degree centrality is close to 0. \n",
    "\n",
    "Let's see which artists have high degree centrality."
   ]
  },
  {
   "cell_type": "code",
   "execution_count": 6,
   "metadata": {},
   "outputs": [
    {
     "name": "stdout",
     "output_type": "stream",
     "text": [
      "20 Artists with highest degree centrality\n",
      "Wolfgang Amadeus Mozart 0.062025672754696136\n",
      "Johann Sebastian Bach 0.054409882470405166\n",
      "Giuseppe Verdi 0.038047086190139835\n",
      "Ludwig van Beethoven 0.03750537725778441\n",
      "Traditional 0.03609799620803747\n",
      "George Frideric Handel 0.03385149740032821\n",
      "Franz Schubert 0.032656551226014775\n",
      "Johannes Brahms 0.030298524108702925\n",
      "Anonymous 0.029130132293818674\n",
      "Pyotr Ilyich Tchaikovsky 0.027366922827720627\n",
      "Richard Wagner 0.025757728646311862\n",
      "Giacomo Puccini 0.0247858390912036\n",
      "Felix Mendelssohn 0.02411135836170224\n",
      "Robert Schumann 0.023532473326145952\n",
      "Antonio Vivaldi 0.023521851582374277\n",
      "Gioachino Rossini 0.02239594674257673\n",
      "Richard Strauss 0.02143467893124014\n",
      "Franz Joseph Haydn 0.021349704981066742\n",
      "Claude Debussy 0.020048541369036554\n",
      "Georges Bizet 0.018582740728545405\n"
     ]
    }
   ],
   "source": [
    "# sort\n",
    "centrality_list = sorted(centrality.items(), key = lambda item: item[1], reverse = True)\n",
    "\n",
    "# print the top 20 artists with high degree centrality\n",
    "print(\"20 Artists with highest degree centrality\")\n",
    "for i in range(20):\n",
    "    print(ID_name[centrality_list[i][0]], centrality_list[i][1])"
   ]
  },
  {
   "cell_type": "markdown",
   "metadata": {},
   "source": [
    "Artists with high centrality tend to be composers. This is understandable, since most classical artists perform music written by these famous composers. "
   ]
  },
  {
   "cell_type": "markdown",
   "metadata": {},
   "source": [
    " # Summary\n",
    "Most artists' degree centrality is close to 0. The few artists that have high degree centrality are composers."
   ]
  }
 ],
 "metadata": {
  "@webio": {
   "lastCommId": null,
   "lastKernelId": null
  },
  "kernelspec": {
   "display_name": "Python 3 (ipykernel)",
   "language": "python",
   "name": "python3"
  },
  "language_info": {
   "codemirror_mode": {
    "name": "ipython",
    "version": 3
   },
   "file_extension": ".py",
   "mimetype": "text/x-python",
   "name": "python",
   "nbconvert_exporter": "python",
   "pygments_lexer": "ipython3",
   "version": "3.8.3"
  }
 },
 "nbformat": 4,
 "nbformat_minor": 4
}
