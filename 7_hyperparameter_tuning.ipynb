{
 "cells": [
  {
   "cell_type": "markdown",
   "metadata": {},
   "source": [
    "# 7 Hyperparameter tuning\n",
    "This notebook contains a summary of qualitative and quantitative comparison of hyperparameters. \n",
    "\n",
    "### Hyperparameters\n",
    "* `window` refers to the window size of the word2vec model.\n",
    "* `length` refers to the length of random walks. \n",
    "* `p` and `q` control how quickly the random walk explores outside the neighborhood of a start node. \n",
    "    * `q` (in-out parameter) differentiates between \"inward\" and \"outward\" nodes\n",
    "        * If `q` > 1, the random walk is biased to stay close to the start node.\n",
    "        * If `q` < 1, the random walk is encouraged to explore outside the local neighborhood.\n",
    "    * `p` (return parameter) controls the likelihood of revisiting a node.\n",
    "        * If `p` is high (`p` > max(q,1)), the random walk is less likely to sample already-visited nodes in the following steps.\n",
    "        * If `p` is low (`p` < min(q, 1)), the random walk stays close to the start node.\n",
    "        \n",
    "### Contents\n",
    "1. Qualitative comparison for `window`\n",
    "2. Hyperparameter tuning (quantiative analysis) for `p`, `q`, `length`\n",
    "3. Qualitative comparison of different `p`, `q` values.\n",
    "\n",
    "### Summary of findings\n",
    "* By `window`: \n",
    "    * The impact of parameter `window` is most noticeable when we compare recommendation outputs for composers.\n",
    "    * Model with a small window size (5) places the vectors so that artists who have strong collaboration with a particular composer have similar vectors. \n",
    "    * Model with a larger window size (20) results in an embedding in which composers are embedded close to each other. \n",
    "    * This is consistent with what one would expect from word2vec embedding on text data - Using a large window tends to incorporate the topical/ domain similarity of words, whereas using a smaller window tends to focus on the more local, syntactic structure of the text.\n",
    "* By `length`: Both related-artist F1 and collaborator F1 scores are higher for models with `length` > 10.\n",
    "* By `p`, `q`: \n",
    "    * Quantitative comparison\n",
    "        * The collaborator F1 score is better for lower values of `q`, but the improvement was miniscule. I thus decided to choose `p` and `q` through a qualitative comparison of the resulting recommendation systems.\n",
    "    * Qualitative comparison\n",
    "        * Note that there are different types of artists, such as individual performers, orchestras, and composers.\n",
    "        * One may consider building separate recommenders (with different `p` and `q`) for different types of artists.\n",
    "        * I focused my recommendation system on the individual performers. I chose the following parameters for my final model: `p` = 0.2, `q`= 4, `length` = 20, `window` = 5. (Note that the selection of `p` and `q` is based on my personal preference.)\n",
    "        \n",
    "### Challenge & future directions\n",
    "* The hyperparameter tuning process was difficult because we do not have a well-defined metric to optimize for. \n",
    "* Towards the end of this project, I came across this <a href=\"https://www.aicrowd.com/challenges/spotify-million-playlist-dataset-challenge\">Spotify playlist dataset</a>. In future versions, I may use this dataset to design my own evaluation metric and re-run the hyperparameter tuning process."
   ]
  },
  {
   "cell_type": "code",
   "execution_count": null,
   "metadata": {
    "scrolled": true
   },
   "outputs": [],
   "source": [
    "import igraph as ig\n",
    "import matplotlib.pyplot as plt\n",
    "import pandas as pd\n",
    "pd.set_option('display.max_colwidth', None)\n",
    "import pickle\n",
    "plt.style.use(\"seaborn\")\n",
    "\n",
    "from gensim.models import Word2Vec, KeyedVectors\n",
    "from musicians import *\n",
    "from statistics import median"
   ]
  },
  {
   "cell_type": "code",
   "execution_count": 2,
   "metadata": {},
   "outputs": [],
   "source": [
    "# load ID_name dict\n",
    "with open('graph_80000/ID_name.pkl', 'rb') as f:\n",
    "    ID_name = pickle.load(f)\n",
    "    \n",
    "with open('graph_80000/name_ID.pkl', 'rb') as f:\n",
    "    name_ID = pickle.load(f)"
   ]
  },
  {
   "cell_type": "markdown",
   "metadata": {},
   "source": [
    "# 1 Qualitative comparison of `window`"
   ]
  },
  {
   "cell_type": "markdown",
   "metadata": {},
   "source": [
    "* I built two recommenders whose Word2Vec were trained with window sizes of 5 and 20. I then compared the recommendation outputs for various artists. \n",
    "* The impact of parameter `window` is most noticeable when we compare recommendation outputs for composers.\n",
    "* This section shows an example comparison of the recommendations for composers. \n",
    "* The random walk parameters were fixed at `p` = 1, `q` = 1, and `length` = 20."
   ]
  },
  {
   "cell_type": "code",
   "execution_count": 3,
   "metadata": {},
   "outputs": [
    {
     "data": {
      "text/html": [
       "<div>\n",
       "<style scoped>\n",
       "    .dataframe tbody tr th:only-of-type {\n",
       "        vertical-align: middle;\n",
       "    }\n",
       "\n",
       "    .dataframe tbody tr th {\n",
       "        vertical-align: top;\n",
       "    }\n",
       "\n",
       "    .dataframe thead th {\n",
       "        text-align: right;\n",
       "    }\n",
       "</style>\n",
       "<table border=\"1\" class=\"dataframe\">\n",
       "  <thead>\n",
       "    <tr style=\"text-align: right;\">\n",
       "      <th></th>\n",
       "      <th>artist</th>\n",
       "      <th>similar artists - window size 5</th>\n",
       "      <th>similar artists - window size 20</th>\n",
       "    </tr>\n",
       "  </thead>\n",
       "  <tbody>\n",
       "    <tr>\n",
       "      <th>0</th>\n",
       "      <td>Ludwig van Beethoven</td>\n",
       "      <td>Florian Paul, Peter Popa, Johannes Brahms, Vincent Lièvre-Picard, Dania El Zein, Levente Filip, Juliette Allen, Andrea Musto, The Key Ensemble, Mary Kathryn Van Osdale, Robert Schumann, Zsolt Szatmári, Sándor Berki, Gyözö Máthé, Libero Lana, Kristin Sampson, Jean-François Rouchon, Júlia Gábor, György Éder, Young New Yorkers' Chorus</td>\n",
       "      <td>Johannes Brahms, Robert Schumann, Franz Schubert, Frédéric Chopin, Susanna Eyton-Jones, Young New Yorkers' Chorus, Central City Choir, Wolfgang Amadeus Mozart, Júlia Gábor, New York City Master Chorale, New Amsterdam Singers, Jan Wilson, Peter Popa, West Point Glee Club, James Archie Worley, Johanna Lehesvuori, Zágrábi Filharmonikus, Brearley Singers, Franz Liszt, Florian Paul</td>\n",
       "    </tr>\n",
       "    <tr>\n",
       "      <th>1</th>\n",
       "      <td>Johannes Brahms</td>\n",
       "      <td>Robert Schumann, Ludwig van Beethoven, Franz Schubert, Paul Roczek, Monika Henschel, Christian Kohn, Giselher Klebe, Dankwart Gahl, Irmgard Gahl, Karl Doktor, Peter Katt, Saiko Sasaki, Jürgen Uhde, Kunio Tsuchiya, Silke-Thora Matthies, Wilfred Tachezi, Alfred Malecek, Geoffroy Couteau, Lisa Carlyna Zumpano, Antonín Dvořák</td>\n",
       "      <td>Robert Schumann, Ludwig van Beethoven, Franz Schubert, Giselher Klebe, Gustav Lange, Frédéric Chopin, Antonín Dvořák, Gustav Uwe Jenner, Wolfgang Amadeus Mozart, Felix Mendelssohn, Franz Liszt, Max Bruch, Sergei Rachmaninoff, Pyotr Ilyich Tchaikovsky, Béla Bartók, Maurice Ravel, Edvard Grieg, David Wolfsthal, Tekla Bądarzewska-Baranowska, Osmo Tapio Räihälä</td>\n",
       "    </tr>\n",
       "  </tbody>\n",
       "</table>\n",
       "</div>"
      ],
      "text/plain": [
       "                 artist  \\\n",
       "0  Ludwig van Beethoven   \n",
       "1       Johannes Brahms   \n",
       "\n",
       "                                                                                                                                                                                                                                                                                                                 similar artists - window size 5  \\\n",
       "0  Florian Paul, Peter Popa, Johannes Brahms, Vincent Lièvre-Picard, Dania El Zein, Levente Filip, Juliette Allen, Andrea Musto, The Key Ensemble, Mary Kathryn Van Osdale, Robert Schumann, Zsolt Szatmári, Sándor Berki, Gyözö Máthé, Libero Lana, Kristin Sampson, Jean-François Rouchon, Júlia Gábor, György Éder, Young New Yorkers' Chorus   \n",
       "1            Robert Schumann, Ludwig van Beethoven, Franz Schubert, Paul Roczek, Monika Henschel, Christian Kohn, Giselher Klebe, Dankwart Gahl, Irmgard Gahl, Karl Doktor, Peter Katt, Saiko Sasaki, Jürgen Uhde, Kunio Tsuchiya, Silke-Thora Matthies, Wilfred Tachezi, Alfred Malecek, Geoffroy Couteau, Lisa Carlyna Zumpano, Antonín Dvořák   \n",
       "\n",
       "                                                                                                                                                                                                                                                                                                                                                              similar artists - window size 20  \n",
       "0  Johannes Brahms, Robert Schumann, Franz Schubert, Frédéric Chopin, Susanna Eyton-Jones, Young New Yorkers' Chorus, Central City Choir, Wolfgang Amadeus Mozart, Júlia Gábor, New York City Master Chorale, New Amsterdam Singers, Jan Wilson, Peter Popa, West Point Glee Club, James Archie Worley, Johanna Lehesvuori, Zágrábi Filharmonikus, Brearley Singers, Franz Liszt, Florian Paul  \n",
       "1                      Robert Schumann, Ludwig van Beethoven, Franz Schubert, Giselher Klebe, Gustav Lange, Frédéric Chopin, Antonín Dvořák, Gustav Uwe Jenner, Wolfgang Amadeus Mozart, Felix Mendelssohn, Franz Liszt, Max Bruch, Sergei Rachmaninoff, Pyotr Ilyich Tchaikovsky, Béla Bartók, Maurice Ravel, Edvard Grieg, David Wolfsthal, Tekla Bądarzewska-Baranowska, Osmo Tapio Räihälä  "
      ]
     },
     "execution_count": 3,
     "metadata": {},
     "output_type": "execute_result"
    }
   ],
   "source": [
    "df = pd.read_csv(\"graph_80000/hyperparameter_tuning/window_comparison.csv\")\n",
    "df"
   ]
  },
  {
   "cell_type": "markdown",
   "metadata": {},
   "source": [
    "### Findings\n",
    "* The most noticeable difference occurs for composers. \n",
    "* Embedding with a small window size (5) places the final vectors so that artists who have strong collaboration with a particular composer have similar vectors. \n",
    "* Training with a larger window size (20) results in an embedding in which composers are embedded close to each other. \n",
    "* This is consistent with what one would expect from word2vec embedding on text data - Using a large window tend to incorporate the topical/ domain similarity of words, whereas using a smaller window tend to focus on the more local, syntactic structure of the text.\n"
   ]
  },
  {
   "cell_type": "markdown",
   "metadata": {},
   "source": [
    "# 2 Hyperparameter tuning for `p`, `q`, `length` "
   ]
  },
  {
   "cell_type": "markdown",
   "metadata": {},
   "source": [
    "* I used cloud computing (GCP) to (1) generate the random walks and (2) train the word2vec model. See `hyperparameter_tuning.py` for script.\n",
    "* For computation speed reasons, I generated random walks from a smaller graph which consists of artists with 11 or more collaborators. \n",
    "* For each collection of hyperparameters, I examined their training loss to identify the optimal number of epochs.\n",
    "* I then created the recommendation system using the selected model and evaluated the performance using the related-artist F1 and collaborator-F1 scores. "
   ]
  },
  {
   "cell_type": "markdown",
   "metadata": {},
   "source": [
    "## 2(a) Create a smaller graph\n",
    "* Smaller graph consists of artists that have 11 or more collaborators."
   ]
  },
  {
   "cell_type": "code",
   "execution_count": 4,
   "metadata": {},
   "outputs": [
    {
     "name": "stdout",
     "output_type": "stream",
     "text": [
      "number of nodes to remove:  134033\n",
      "Remaining number nodes:  54261\n"
     ]
    }
   ],
   "source": [
    "### load data\n",
    "Gix = ig.read('graph_80000/graph.gml', format=\"gml\")\n",
    "\n",
    "# select minimum degree of nodes to include\n",
    "min_degree = 10\n",
    "delete_idx = [v.index for v in Gix.vs if v.degree() <= min_degree]\n",
    "print(\"number of nodes to remove: \", len(delete_idx))\n",
    "\n",
    "# delete nodes with low degree\n",
    "Gix.delete_vertices(delete_idx)\n",
    "print(\"Remaining number nodes: \", len(Gix.vs))\n",
    "\n",
    "#Gix.save(\"graph_80000/graph_min_degree_10.gml\")"
   ]
  },
  {
   "cell_type": "markdown",
   "metadata": {},
   "source": [
    "Run the script `hyperparameter_tuning.py`. \n",
    "For speed reasons, I used Google Cloud "
   ]
  },
  {
   "cell_type": "markdown",
   "metadata": {},
   "source": [
    "##  2(b) Analyze hyperparameter tuning"
   ]
  },
  {
   "cell_type": "markdown",
   "metadata": {},
   "source": [
    "The following cells summarize how I performed the hyperparameter tuning. Due to storage limits, I decided not to share all the models that were saved during the tuning process.\n"
   ]
  },
  {
   "cell_type": "markdown",
   "metadata": {},
   "source": [
    "For each iteration (parameters), plot the training loss from Word2vec training and determine the optimal epoch."
   ]
  },
  {
   "cell_type": "code",
   "execution_count": 4,
   "metadata": {},
   "outputs": [],
   "source": [
    "# load train loss\n",
    "train_loss = dict()\n",
    "for i in range(3):\n",
    "    with open(\"graph_80000/hyperparameter_tuning/sample_process/train_loss_\" + str(i) +\".pkl\", \"rb\") as f:\n",
    "        loss = pickle.load(f)\n",
    "    train_loss[i] = loss"
   ]
  },
  {
   "cell_type": "code",
   "execution_count": 5,
   "metadata": {},
   "outputs": [
    {
     "data": {
      "image/png": "[encoded data removed]",
      "text/plain": [
       "<Figure size 1080x288 with 3 Axes>"
      ]
     },
     "metadata": {},
     "output_type": "display_data"
    }
   ],
   "source": [
    "# example process for selecting epoch \n",
    "fig, ax = plt.subplots(ncols = 3, figsize = (15, 4))\n",
    "for i in range(3):\n",
    "    ax[i].plot(train_loss[i])\n",
    "    ax[i].set_title(\"iteration \" + str(i))\n",
    "\n",
    "plt.show()"
   ]
  },
  {
   "cell_type": "markdown",
   "metadata": {},
   "source": [
    "Based on the training losses, we'll select the model after epoch 6 for the three iterations shown.\n",
    "* Note that it's impossible to create a CV set and monitor the CV loss when training a self-supervised model like word2vec. \n",
    "* In order to prevent 'overfitting', I choose the optimal number of epochs to be the point at which training loss stops improving.\n",
    "\n",
    "For each iteration, select epoch using above method. I then evaluated the models using the related-artists F1 score and collaborators-F1 score as illustrated in notebook `6_evaluation.ipynb`.\n",
    "\n",
    "Due to large size of the models, I did not include the code for computing the evaluation metric from the various models. \n",
    "\n",
    "The related-artists F1 scores were 0 for all models. The collaborators-F1 scores are illustrated in the following plot. "
   ]
  },
  {
   "cell_type": "code",
   "execution_count": 6,
   "metadata": {
    "scrolled": true
   },
   "outputs": [
    {
     "data": {
      "image/png": "[encoded data removed]",
      "text/plain": [
       "<Figure size 720x360 with 1 Axes>"
      ]
     },
     "metadata": {},
     "output_type": "display_data"
    }
   ],
   "source": [
    "# load the different hyperparameters used\n",
    "directory = \"graph_80000/hyperparameter_tuning/sample_process\"\n",
    "\n",
    "params = dict()\n",
    "for i in range(18):\n",
    "    with open(directory + \"/iteration_\"+str(i)+\"_parameters.pkl\", \"rb\") as f:\n",
    "        param_i = pickle.load(f)\n",
    "        params[i] = param_i\n",
    "\n",
    "# load evaluation of various models\n",
    "with open(\"graph_80000/hyperparameter_tuning/evaluation_related_artist.pkl\", \"rb\") as f:\n",
    "    evaluation_related = pickle.load(f)\n",
    "with open(\"graph_80000/hyperparameter_tuning/evaluation_collaborators.pkl\", \"rb\") as f:\n",
    "    evaluation_collaborators = pickle.load(f)\n",
    "\n",
    "# get list\n",
    "related = [evaluation_related[i] for i in range(len(evaluation_related))]\n",
    "collab = [evaluation_collaborators[i] for i in range(len(evaluation_collaborators))]\n",
    "n = len(related)\n",
    "\n",
    "# load parameters\n",
    "params = dict()\n",
    "for i in range(n):\n",
    "    # load hyperparameters\n",
    "    with open(directory + \"/iteration_\"+str(i)+\"_parameters.pkl\", \"rb\") as f:\n",
    "        param_i = pickle.load(f)\n",
    "        params[i] = param_i\n",
    "\n",
    "# get list of p and q\n",
    "p = [params[i]['p'] for i in range(n)]\n",
    "q = [params[i]['q'] for i in range(n)]\n",
    "\n",
    "# colors\n",
    "collab_scaled =  [(x - min(collab))/(max(collab)- min(collab)) for x in collab]\n",
    "collab_colors = plt.cm.Greens(collab_scaled)\n",
    "\n",
    "fig, ax = plt.subplots(figsize = (10, 5))\n",
    "\n",
    "# plot neighbors - F1 scores\n",
    "ax.scatter(p, q, c = collab_colors)\n",
    "for i in range(18):\n",
    "    ax.text(p[i] + 0.08, q[i] + 0.08, \"{:.2f}\".format(collab[i]), fontsize = 12)\n",
    "ax.set_xlabel(\"p\")\n",
    "ax.set_ylabel(\"q\")\n",
    "ax.set_title(\"collaborators F1 scores\")\n",
    "plt.show()"
   ]
  },
  {
   "cell_type": "markdown",
   "metadata": {},
   "source": [
    "## Overall comparison\n",
    "* The related-artists F1 scores were zeros for all parameters.\n",
    "* For the collaborator F1 scores, the performance seemed to depend on the values of `q` and less on the values of `p`. The performance was better for smaller values of `q`. That is, when we find the model with small `q` values, our model does a better job a predicting the immediate collaborators of artists.\n",
    "* Note that the improvement in F1 score is very small. I thus decided to choose the optimal `p` and `q` via a qualitative comparison of the resulting recommendation systems."
   ]
  },
  {
   "cell_type": "markdown",
   "metadata": {},
   "source": [
    "# 3. Qualitative comparison of `p` and `q`\n"
   ]
  },
  {
   "cell_type": "markdown",
   "metadata": {},
   "source": [
    "* This section shows an example qualitative comparison of two models with different `p` and `q` values.\n",
    "    * model_1: p = 0.1, q = 10 (low p high q)\n",
    "    * model_2: p = 10, q = 0.1 (high p low q)\n",
    "* Other parameters were fixed at `length` = 20, `window` = 20.\n",
    "* For the two recommenders, I compared the recommendation output for selected artists. In particular, I compared the models for performers, orchestras, and composers. "
   ]
  },
  {
   "cell_type": "markdown",
   "metadata": {},
   "source": [
    "<b> Comparison of performers </b>\n",
    "* The difference in embedding for the performers isn't drastic, but I had a slight preference for the embedding of model 1. \n",
    "* For example, I liked that artist Emil Gilels is embedded close to Leonid Kogan, Sviatoslav Richter, Mstislav Rostropovich, and Van Cliburn. \n",
    "* Overall, the embedding via model 1 had more artists that I consider as 'close' than model 2.\n"
   ]
  },
  {
   "cell_type": "code",
   "execution_count": 7,
   "metadata": {},
   "outputs": [
    {
     "data": {
      "text/html": [
       "<div>\n",
       "<style scoped>\n",
       "    .dataframe tbody tr th:only-of-type {\n",
       "        vertical-align: middle;\n",
       "    }\n",
       "\n",
       "    .dataframe tbody tr th {\n",
       "        vertical-align: top;\n",
       "    }\n",
       "\n",
       "    .dataframe thead th {\n",
       "        text-align: right;\n",
       "    }\n",
       "</style>\n",
       "<table border=\"1\" class=\"dataframe\">\n",
       "  <thead>\n",
       "    <tr style=\"text-align: right;\">\n",
       "      <th></th>\n",
       "      <th>artist</th>\n",
       "      <th>similar artists - model 1: low p high q</th>\n",
       "      <th>similar artists - model 2: high p low q</th>\n",
       "    </tr>\n",
       "  </thead>\n",
       "  <tbody>\n",
       "    <tr>\n",
       "      <th>0</th>\n",
       "      <td>Emil Gilels</td>\n",
       "      <td>Leonid Kogan, Daniil Shafran, Yakov Zak, Emil Giles, Yakov Flier, Sviatoslav Richter, Kirill Kondrashin, Julius Katchen, Mstislav Rostropovich, Grigory Ginzburg, Anatol Ugorski, Ania Dorfmann, Dino Ciani, Karl Eliasberg, Hisako Kawamura, Van Cliburn, Elena Gilels, USSR State Symphony Orchestra, Anton Ginsburg, Oscar Levant</td>\n",
       "      <td>Elena Gilels, Vladimir Bunin, Yakov Zak, Yakov Flier, Leonid Kogan, Anton Ginsburg, USSR State Symphony Orchestra, Yuri Mouravlev, Vladimir Selivokhin, Nikolai Anosov, Grigory Ginzburg, Nikolai Kharkovsky, Maria Grinberg, Moscow Large Symphony Orchestra, Guenadi Rojdestvenski, Daniil Shafran, Karl Eliasberg, Ussr State Radio Orchestra, Emil Giles, Moscow Radio Orchestra</td>\n",
       "    </tr>\n",
       "    <tr>\n",
       "      <th>1</th>\n",
       "      <td>Mitsuko Uchida</td>\n",
       "      <td>Hiroko Ehara, Quartetto Bernini, Benjamin Hochman, Murray Perahia, German Wind Soloists, Grumiaux Trio, Peter Frankl, Charles Rosen, Frank Peter Zimmermann, Stuttgart Piano Trio, Christian Zacharias, Quartetto Italiano, Peter Aronsky, Claudio Abbado/Emmanuel Pahud/Berliner Philharmoniker, Sudwestfunk Symphony Orchestra Baden-Baden, Carl Seemann, Mozarteum Quartet Salzburg, Signum Quartet, Diastema Saxophone Quartet, Suske Quartett</td>\n",
       "      <td>Benjamin Hochman, Lisa Wellbaum, Ladies of the Cleveland Orchestra Chorus, Jakob Gimpel, Pierre-Laurent Aimard, Dieter Zechlin, Albert Ferber, Jeffrey Tate, Murray Perahia, Yuko Batik, Charles Rosen, Catherine Collard, Misha Goldstein, Seong-Jin Cho, Radu Lupu, Pinchas Zuckerman, Franklin Cohen, Peter Serkin, Dmitri Bashkirov, David Pittmann-Jennings</td>\n",
       "    </tr>\n",
       "    <tr>\n",
       "      <th>2</th>\n",
       "      <td>Mstislav Rostropovich</td>\n",
       "      <td>Emil Giles, Galina Vishnevskaya, Katherine Austin, Emil Gilels, Peter Howard, Orchestra of the Collegium Musicum, Lazar Dvoskin, Alexandre Stein, Borodin Quartet, Alexei Zybtsev, Leonid Kogan, Santiago Canon Valencia, Виктор Дубровский, Maxim Vengerov, Vladimir Feltsman, Sviatoslav Richter, Layton James, Дмитрий Шостакович, Симфонический оркестр Московской филармонии, National Symphony Orchestra Washington</td>\n",
       "      <td>Galina Vishnevskaya, Морис Равель, Alexander Dedyukhin, Tchaikovsky Choir, Антонин Дворжак, Boris Simsky, Dmitri Shebalin, Boris Khaikine, Vyacheslav Polozov, Stefan Szkafarowsky, Choeur Tchaikovsky, Alexandre Stein, Galina Gregorieva, Misha Raitzin, Russian Symphony Orchestra, Gregory Stolyarov, Роберт Шуман, Клод Дебюсси, Mark Reshetin, Mstislav Rostopovich</td>\n",
       "    </tr>\n",
       "    <tr>\n",
       "      <th>3</th>\n",
       "      <td>Daniil Trifonov</td>\n",
       "      <td>Alexandre Dossin, Igor Tchetuev, Haochen Zhang, Matthew Cameron, Olga Kern, Victor Merzhanov, Daniel Pollack, Rafael Orozco, Yulianna Avdeeva, Vladimir Sofronitsky, Olga Scheps, Adriel Gomez-Mansur, Denis Matsuev, Nina Kavtaradze, Mikhail Pletnev, Sophia Agranovich, Boris Bloch, Simon Barere, Raymond Trouard, Alexander Kobrin</td>\n",
       "      <td>Agustin Anievas, Yoram Ish-Hurwitz, Aldona Dvarionaité, Adriel Gomez-Mansur, Hwayoon Lee, Olga Kern, Alexandrina Pendachanska, Dmitry Shishkin, Rafael Orozco, Anna Kravtchenko, Yulianna Avdeeva, Dudana Mazmanishvili, Seong-Jin Cho, Soyeon Kate Lee, Simon Barere, Georgijs Osokins, Daniel Pollack, Mikhail Rudy, Alexandre Dossin, Luxembourg Philharmonia</td>\n",
       "    </tr>\n",
       "    <tr>\n",
       "      <th>4</th>\n",
       "      <td>Evgeny Kissin</td>\n",
       "      <td>Hiroshi Oshima, Kristina Clemenz, Vladimir Sofronitsky, Ivo Pogorelich, Misha Goldstein, Eva Sukova, Eugene Mursky, Shura Cherkassky, Emerson String Quartet, Sophia Agranovich, Vladimir Feltsman, Moscow Philharmonic Orchestra, Byron Janis, Anatol Ugorski, Rudolf Kerer, Yu Kosuge, Calm Classic, Camille Capasso, Alexandre Dossin, Maurizio Pollini</td>\n",
       "      <td>Kristina Clemenz, Hiroshi Oshima, Friedrich Molsberger, Camille Capasso, Alexander Ghindin, Moscow Philharmonic State Symphony Orchestra, Arcadi Volodos, Yakov Flier, Araksia Davtyan, Yelena Adjemova, Oxana Yablonskaya, Vladimir Sofronitsky, Dmitri Kortchak, Andrey Azovsky, Sveshnikov Boys and Men's Choir, Nikita Mndoyants, Vladimir Krainev, Nikolai Petrov, Israela Margalit, Oleg Yanchenko</td>\n",
       "    </tr>\n",
       "    <tr>\n",
       "      <th>5</th>\n",
       "      <td>Yuja Wang</td>\n",
       "      <td>Gustavo Dudamel, Los Angeles Philharmonic, Vadym Kholodenko, Lionel Bringuier, Ivo Pogorelich, Norbert Kirchmann, Freddy Kempf, Haochen Zhang, Nikolai Petrov, Michel Block, Alexander Brailowsky, Mirka Pokorna, Katya Apekisheva, Benjamin Moser, Nikolai Lugansky, Tonhalle Orchester Zürich, Wibi Soerjadi, Polina Leschenko, Saint Petersburg State Capella Symphony Orchestra, Alexander Kobrin</td>\n",
       "      <td>Lionel Bringuier, Gustavo Dudamel, Simón Bolívar Symphony Orchestra Of Venezuela, Peter Orth, Gianluca Imperato, Jeff Mee, Maarten van Veen, Soyeon Kate Lee, Michel Block, Nicholas Angelich, York 2, Erika Haase, Arseny Tarasevich-Nikolaev, Frédéric d'Oria-Nicolas, Freddy Kempf, Adriel Gomez-Mansur, Boris Bekhterev, Seppo Kantonen, Brian Cummings, Eduard Stan</td>\n",
       "    </tr>\n",
       "  </tbody>\n",
       "</table>\n",
       "</div>"
      ],
      "text/plain": [
       "                  artist  \\\n",
       "0            Emil Gilels   \n",
       "1         Mitsuko Uchida   \n",
       "2  Mstislav Rostropovich   \n",
       "3        Daniil Trifonov   \n",
       "4          Evgeny Kissin   \n",
       "5              Yuja Wang   \n",
       "\n",
       "                                                                                                                                                                                                                                                                                                                                                                                                              similar artists - model 1: low p high q  \\\n",
       "0                                                                                                                Leonid Kogan, Daniil Shafran, Yakov Zak, Emil Giles, Yakov Flier, Sviatoslav Richter, Kirill Kondrashin, Julius Katchen, Mstislav Rostropovich, Grigory Ginzburg, Anatol Ugorski, Ania Dorfmann, Dino Ciani, Karl Eliasberg, Hisako Kawamura, Van Cliburn, Elena Gilels, USSR State Symphony Orchestra, Anton Ginsburg, Oscar Levant   \n",
       "1  Hiroko Ehara, Quartetto Bernini, Benjamin Hochman, Murray Perahia, German Wind Soloists, Grumiaux Trio, Peter Frankl, Charles Rosen, Frank Peter Zimmermann, Stuttgart Piano Trio, Christian Zacharias, Quartetto Italiano, Peter Aronsky, Claudio Abbado/Emmanuel Pahud/Berliner Philharmoniker, Sudwestfunk Symphony Orchestra Baden-Baden, Carl Seemann, Mozarteum Quartet Salzburg, Signum Quartet, Diastema Saxophone Quartet, Suske Quartett   \n",
       "2                           Emil Giles, Galina Vishnevskaya, Katherine Austin, Emil Gilels, Peter Howard, Orchestra of the Collegium Musicum, Lazar Dvoskin, Alexandre Stein, Borodin Quartet, Alexei Zybtsev, Leonid Kogan, Santiago Canon Valencia, Виктор Дубровский, Maxim Vengerov, Vladimir Feltsman, Sviatoslav Richter, Layton James, Дмитрий Шостакович, Симфонический оркестр Московской филармонии, National Symphony Orchestra Washington   \n",
       "3                                                                                                             Alexandre Dossin, Igor Tchetuev, Haochen Zhang, Matthew Cameron, Olga Kern, Victor Merzhanov, Daniel Pollack, Rafael Orozco, Yulianna Avdeeva, Vladimir Sofronitsky, Olga Scheps, Adriel Gomez-Mansur, Denis Matsuev, Nina Kavtaradze, Mikhail Pletnev, Sophia Agranovich, Boris Bloch, Simon Barere, Raymond Trouard, Alexander Kobrin   \n",
       "4                                                                                          Hiroshi Oshima, Kristina Clemenz, Vladimir Sofronitsky, Ivo Pogorelich, Misha Goldstein, Eva Sukova, Eugene Mursky, Shura Cherkassky, Emerson String Quartet, Sophia Agranovich, Vladimir Feltsman, Moscow Philharmonic Orchestra, Byron Janis, Anatol Ugorski, Rudolf Kerer, Yu Kosuge, Calm Classic, Camille Capasso, Alexandre Dossin, Maurizio Pollini   \n",
       "5                                               Gustavo Dudamel, Los Angeles Philharmonic, Vadym Kholodenko, Lionel Bringuier, Ivo Pogorelich, Norbert Kirchmann, Freddy Kempf, Haochen Zhang, Nikolai Petrov, Michel Block, Alexander Brailowsky, Mirka Pokorna, Katya Apekisheva, Benjamin Moser, Nikolai Lugansky, Tonhalle Orchester Zürich, Wibi Soerjadi, Polina Leschenko, Saint Petersburg State Capella Symphony Orchestra, Alexander Kobrin   \n",
       "\n",
       "                                                                                                                                                                                                                                                                                                                                                                    similar artists - model 2: high p low q  \n",
       "0                      Elena Gilels, Vladimir Bunin, Yakov Zak, Yakov Flier, Leonid Kogan, Anton Ginsburg, USSR State Symphony Orchestra, Yuri Mouravlev, Vladimir Selivokhin, Nikolai Anosov, Grigory Ginzburg, Nikolai Kharkovsky, Maria Grinberg, Moscow Large Symphony Orchestra, Guenadi Rojdestvenski, Daniil Shafran, Karl Eliasberg, Ussr State Radio Orchestra, Emil Giles, Moscow Radio Orchestra  \n",
       "1                                          Benjamin Hochman, Lisa Wellbaum, Ladies of the Cleveland Orchestra Chorus, Jakob Gimpel, Pierre-Laurent Aimard, Dieter Zechlin, Albert Ferber, Jeffrey Tate, Murray Perahia, Yuko Batik, Charles Rosen, Catherine Collard, Misha Goldstein, Seong-Jin Cho, Radu Lupu, Pinchas Zuckerman, Franklin Cohen, Peter Serkin, Dmitri Bashkirov, David Pittmann-Jennings  \n",
       "2                                 Galina Vishnevskaya, Морис Равель, Alexander Dedyukhin, Tchaikovsky Choir, Антонин Дворжак, Boris Simsky, Dmitri Shebalin, Boris Khaikine, Vyacheslav Polozov, Stefan Szkafarowsky, Choeur Tchaikovsky, Alexandre Stein, Galina Gregorieva, Misha Raitzin, Russian Symphony Orchestra, Gregory Stolyarov, Роберт Шуман, Клод Дебюсси, Mark Reshetin, Mstislav Rostopovich  \n",
       "3                                          Agustin Anievas, Yoram Ish-Hurwitz, Aldona Dvarionaité, Adriel Gomez-Mansur, Hwayoon Lee, Olga Kern, Alexandrina Pendachanska, Dmitry Shishkin, Rafael Orozco, Anna Kravtchenko, Yulianna Avdeeva, Dudana Mazmanishvili, Seong-Jin Cho, Soyeon Kate Lee, Simon Barere, Georgijs Osokins, Daniel Pollack, Mikhail Rudy, Alexandre Dossin, Luxembourg Philharmonia  \n",
       "4  Kristina Clemenz, Hiroshi Oshima, Friedrich Molsberger, Camille Capasso, Alexander Ghindin, Moscow Philharmonic State Symphony Orchestra, Arcadi Volodos, Yakov Flier, Araksia Davtyan, Yelena Adjemova, Oxana Yablonskaya, Vladimir Sofronitsky, Dmitri Kortchak, Andrey Azovsky, Sveshnikov Boys and Men's Choir, Nikita Mndoyants, Vladimir Krainev, Nikolai Petrov, Israela Margalit, Oleg Yanchenko  \n",
       "5                                  Lionel Bringuier, Gustavo Dudamel, Simón Bolívar Symphony Orchestra Of Venezuela, Peter Orth, Gianluca Imperato, Jeff Mee, Maarten van Veen, Soyeon Kate Lee, Michel Block, Nicholas Angelich, York 2, Erika Haase, Arseny Tarasevich-Nikolaev, Frédéric d'Oria-Nicolas, Freddy Kempf, Adriel Gomez-Mansur, Boris Bekhterev, Seppo Kantonen, Brian Cummings, Eduard Stan  "
      ]
     },
     "execution_count": 7,
     "metadata": {},
     "output_type": "execute_result"
    }
   ],
   "source": [
    "df = pd.read_csv(\"graph_80000/hyperparameter_tuning/pq_performers.csv\")\n",
    "df"
   ]
  },
  {
   "cell_type": "markdown",
   "metadata": {},
   "source": [
    "<b> Comparison of orchestras </b>\n",
    "* For orchestras, artists with close embeddings tend to be other orchestras, conductors, members of the orchestras, and other soloists. \n",
    "* Again, the difference isn't drastic, but model 1 tends to embed other orchestras and group performers closer than individual artists. "
   ]
  },
  {
   "cell_type": "code",
   "execution_count": 8,
   "metadata": {},
   "outputs": [
    {
     "data": {
      "text/html": [
       "<div>\n",
       "<style scoped>\n",
       "    .dataframe tbody tr th:only-of-type {\n",
       "        vertical-align: middle;\n",
       "    }\n",
       "\n",
       "    .dataframe tbody tr th {\n",
       "        vertical-align: top;\n",
       "    }\n",
       "\n",
       "    .dataframe thead th {\n",
       "        text-align: right;\n",
       "    }\n",
       "</style>\n",
       "<table border=\"1\" class=\"dataframe\">\n",
       "  <thead>\n",
       "    <tr style=\"text-align: right;\">\n",
       "      <th></th>\n",
       "      <th>artist</th>\n",
       "      <th>similar artists - model 1: low p high q</th>\n",
       "      <th>similar artists - model 2: high p low q</th>\n",
       "    </tr>\n",
       "  </thead>\n",
       "  <tbody>\n",
       "    <tr>\n",
       "      <th>0</th>\n",
       "      <td>Berliner Philharmoniker</td>\n",
       "      <td>Alain Hitier, Mechthild Gessendorf, Wiener Philharmoniker, Berliner Philharmoniker Orchestra, Julius Pruwer, Carol Pritchett, David Clair, Horst Wilhelm, Wilhelm Walter Dicks, Walter Ludwig, Lilo Brockhaus, Elke Grosshans, Willi Domgraf, Siegfried Borries, Robert Koffmane, Helga Jenckel, Gisela Vivarelli, Bruno Kittel Choir, Anne-Marie Tostain, Karl Steins</td>\n",
       "      <td>Berliner Philharmoniker Orchestra, Wolfgang Böttcher, Herbert von Karajan, Violine Berlin Philharmonic, Dietrich Gerhardt, Edith Picht-Axenfeld, Joseph Traxl, Wiener Philharmoniker, Members of Berliner Philharmoniker, Breslau Radio Orchestra, Leon Spierer, Karl Steins, WALTER BARRY, Neithart Resa, Hans-Joachim Westphal, Ottomar Borwitzky, Siegfried Borries, Manfred Braun, Orchestre Philharmonique d'Etat de Hambourg, Catherine Ott</td>\n",
       "    </tr>\n",
       "    <tr>\n",
       "      <th>1</th>\n",
       "      <td>Wiener Philharmoniker</td>\n",
       "      <td>Vienna State Opera Chorus, Karl Terhal, Zdenek Sousek, Franz Szkokan, Georg Monthy, Emanuel Brabec, Nikolaus Simkovsky, Zdenek Svehla, Jaroslav Soucek, Karl Ettl, Nello Romanato, Ljubomir Pantscheff, Anna Czakova, Franz Normann, Georgine Milinkovic, Josef Strauss, Knud Anderson, Sofia Radio Chorus, Jiri Zahradnicek, Hans Reautschigg</td>\n",
       "      <td>Vienna State Opera Chorus, Vienna State Opera Orchestra, Weiner Philharmoniker, William Wernigk, Ljubomir Pantscheff, Peter Klein, Ena Schlüter, Eberhard Wächter, Siegfried Rudolf Frese, Hilde Gueden, Gerda Happ, Anton Dermota, Nikolaus Simkovsky, August Jaresch, Edith Priessner, Erich Majkut, Herma Handl, Walter Berry, Franz Normann, Wiener Singverein</td>\n",
       "    </tr>\n",
       "  </tbody>\n",
       "</table>\n",
       "</div>"
      ],
      "text/plain": [
       "                    artist  \\\n",
       "0  Berliner Philharmoniker   \n",
       "1    Wiener Philharmoniker   \n",
       "\n",
       "                                                                                                                                                                                                                                                                                                                                  similar artists - model 1: low p high q  \\\n",
       "0  Alain Hitier, Mechthild Gessendorf, Wiener Philharmoniker, Berliner Philharmoniker Orchestra, Julius Pruwer, Carol Pritchett, David Clair, Horst Wilhelm, Wilhelm Walter Dicks, Walter Ludwig, Lilo Brockhaus, Elke Grosshans, Willi Domgraf, Siegfried Borries, Robert Koffmane, Helga Jenckel, Gisela Vivarelli, Bruno Kittel Choir, Anne-Marie Tostain, Karl Steins   \n",
       "1                          Vienna State Opera Chorus, Karl Terhal, Zdenek Sousek, Franz Szkokan, Georg Monthy, Emanuel Brabec, Nikolaus Simkovsky, Zdenek Svehla, Jaroslav Soucek, Karl Ettl, Nello Romanato, Ljubomir Pantscheff, Anna Czakova, Franz Normann, Georgine Milinkovic, Josef Strauss, Knud Anderson, Sofia Radio Chorus, Jiri Zahradnicek, Hans Reautschigg   \n",
       "\n",
       "                                                                                                                                                                                                                                                                                                                                                                                                             similar artists - model 2: high p low q  \n",
       "0  Berliner Philharmoniker Orchestra, Wolfgang Böttcher, Herbert von Karajan, Violine Berlin Philharmonic, Dietrich Gerhardt, Edith Picht-Axenfeld, Joseph Traxl, Wiener Philharmoniker, Members of Berliner Philharmoniker, Breslau Radio Orchestra, Leon Spierer, Karl Steins, WALTER BARRY, Neithart Resa, Hans-Joachim Westphal, Ottomar Borwitzky, Siegfried Borries, Manfred Braun, Orchestre Philharmonique d'Etat de Hambourg, Catherine Ott  \n",
       "1                                                                                 Vienna State Opera Chorus, Vienna State Opera Orchestra, Weiner Philharmoniker, William Wernigk, Ljubomir Pantscheff, Peter Klein, Ena Schlüter, Eberhard Wächter, Siegfried Rudolf Frese, Hilde Gueden, Gerda Happ, Anton Dermota, Nikolaus Simkovsky, August Jaresch, Edith Priessner, Erich Majkut, Herma Handl, Walter Berry, Franz Normann, Wiener Singverein  "
      ]
     },
     "execution_count": 8,
     "metadata": {},
     "output_type": "execute_result"
    }
   ],
   "source": [
    "df = pd.read_csv(\"graph_80000/hyperparameter_tuning/pq_orchestras.csv\")\n",
    "df"
   ]
  },
  {
   "cell_type": "markdown",
   "metadata": {},
   "source": [
    "<b> Comparison of composers </b>\n",
    "* For composers, model 2 tends to embed composers close to each other. Model 1 returns more performers than composers."
   ]
  },
  {
   "cell_type": "code",
   "execution_count": 9,
   "metadata": {},
   "outputs": [
    {
     "data": {
      "text/html": [
       "<div>\n",
       "<style scoped>\n",
       "    .dataframe tbody tr th:only-of-type {\n",
       "        vertical-align: middle;\n",
       "    }\n",
       "\n",
       "    .dataframe tbody tr th {\n",
       "        vertical-align: top;\n",
       "    }\n",
       "\n",
       "    .dataframe thead th {\n",
       "        text-align: right;\n",
       "    }\n",
       "</style>\n",
       "<table border=\"1\" class=\"dataframe\">\n",
       "  <thead>\n",
       "    <tr style=\"text-align: right;\">\n",
       "      <th></th>\n",
       "      <th>artist</th>\n",
       "      <th>similar artists - model 1: low p high q</th>\n",
       "      <th>similar artists - model 2: high p low q</th>\n",
       "    </tr>\n",
       "  </thead>\n",
       "  <tbody>\n",
       "    <tr>\n",
       "      <th>0</th>\n",
       "      <td>Wolfgang Amadeus Mozart</td>\n",
       "      <td>Arife Gülsen Tatu, Mozarteum Quartet Salzburg, Dominika Falger, Michael Gantvarg, Marius Briançon, German Wind Soloists, Kamil Sreter, Wolfgang Sobotka, Peter Jankovic, Harald Nerat, Saint Petersburger Soloists, Eder Quartet, Nap de Klijn, Angelica Berger, János Fehérvári, Spohr Kammerorchester Kassel, Erik Smith, Milos Stevove, Vittorio Amedeo Cigna-Santi, Academy of St. Martin in the Fields Wind Ensemble</td>\n",
       "      <td>Nikolai Petukhov, Lothar Stadler, Olga Khomenko, Yevgeny Scherbino, Vladimir Reva, Linz Sinfonietta, Michael Hahn, Igor Prashchuk, Gernot Reininger, Mozarteum Kammerchor, Altenburg Boys Choir, Peter Hrncirik, Gernot Schimmel, Schretter, Reiter, Cahnbley, Paumgartner, Luiz Sebastião Juttel, Maedel, Hartschuh</td>\n",
       "    </tr>\n",
       "    <tr>\n",
       "      <th>1</th>\n",
       "      <td>Ludwig van Beethoven</td>\n",
       "      <td>Xyrion Trio, Gustav Mahler Chor, Hélène Devilleune, Constantin Graf von Waldersdorff, Jean Philippe Vivier, Florian Paul, Letizia Viola, Stuttgart Philharmonic Septet, Ikuyo Nakamichi, Łukasz Romejko, TrioVanBeethoven, Edurne Santos-Arrastua, ナガノ・チェンバー・オーケストラ, Haydn Orchester von Bozen und Trient, Paavali Jumppanen, トウキョウ・モーツァルトプレーヤーズ, Susanna Ogata, European Festival Orchestra, Robert Taub, Christian Gansch</td>\n",
       "      <td>Johannes Brahms, Robert Schumann, Frédéric Chopin, Franz Schubert, Wolfgang Amadeus Mozart, Franz Liszt, Matej Mestrovic, Pyotr Ilyich Tchaikovsky, Franz Joseph Haydn, Kyoko Sato, Gustav Lange, Hephzibah Menuhin With the Amadeus Quartet, Hermann Necke, Antonín Dvořák, Bice Horszowski, Donald Grant, Carl Maria von Weber, Brearley Singers, Dani Bošnjak, Maurice Ravel</td>\n",
       "    </tr>\n",
       "    <tr>\n",
       "      <th>2</th>\n",
       "      <td>Johannes Brahms</td>\n",
       "      <td>Geoffrey Govier, Regina Frinbergs, Geoffroy Couteau, Paul Klengel, Petris Gravelis, Chubu Philharmonic Orchestra, Nima Sarkechik, Dian Baker, Sebastian Schindler, SWR Symphony Orchestra Baden-Baden, Amadeus Ensemble, Peter Katt, Günter Ludwig, Alexander Peskanov, Karl Doktor, Robert Schumann, Cyril Huvé, Jürgen Meier, Süddeutsche Philharmonie, Lotte Toftemark</td>\n",
       "      <td>Robert Schumann, Ludwig van Beethoven, Franz Schubert, Peter Katt, Frédéric Chopin, Christian Brunnert, Gustav Lange, Annie Rozanne, Paul Roczek, Antonín Dvořák, Sergei Rachmaninoff, Pyotr Ilyich Tchaikovsky, Franz Liszt, Ruben Campos, Orchestre des Concerts Français, Edvard Grieg, Wolfgang Amadeus Mozart, Evzen Rattay, Max Reger, Simone Simon-Gérard</td>\n",
       "    </tr>\n",
       "    <tr>\n",
       "      <th>3</th>\n",
       "      <td>Claude Debussy</td>\n",
       "      <td>Maurice Ravel, Julian Boutin, Leon Roques, The International String Quartet New York, Arthur Hartmann, Andre Falcon, Lutz Rath, Lenore Smith, Leita Ben Sedira, Bryn Lewis, Choeurs De Lyon, Richard Weiss, Odette Pigault, Stephanie Moraly, Francette Bartholomee, Wei-Fang Gu, Yuval Kaminkovsky, Alexandre Doisy, Ann Hobson, Luc Dedreuil</td>\n",
       "      <td>Maurice Ravel, Erik Satie, Gabriel Fauré, Frédéric Chopin, Camille Saint-Saëns, John Russo, Albert Roussel, René Bernier, Robert Schumann, デュティユー, Louis Aubert, Francis Poulenc, Ethel Sussman, Marcel Mihalovici, Gabriel Pierné, Franz Liszt, Darius Milhaud, Henri Dutilleux, Ernest Chausson, Ryo Noda</td>\n",
       "    </tr>\n",
       "    <tr>\n",
       "      <th>4</th>\n",
       "      <td>Sergei Rachmaninoff</td>\n",
       "      <td>Janet Guggenheim, Oleg Shepel, Michael Grebanier, Dmitry Ivanchey, Voronezh Chamber Choir, Svetlana Volkova, USSR TV and Radio Large Chorus, Eugen Antoni, Marianna Christos, Walter Plante, Igor Golovchin, Annamaria Popescu, Ruben Sevostyanov, Edvard Tchivzhel, Emilia Moskvitina, Nikolina Pankova, Grand Academic Choir of All-Union National Radio Service and Central Television Networks, Pyotr Ilyich Tchaikovsky, Pavel Chorchumov, Raisa Palmu</td>\n",
       "      <td>Alexander Scriabin, Frédéric Chopin, Sergei Prokofiev, Mily Balakirev, Pyotr Ilyich Tchaikovsky, Franz Behr, John Russo, Abram Chasins, Alexander Glazunov, Nikolai Medtner, Klara Korkan, Timur Novokov, Николай Мясковский, Alexander Gretchaninov, Evgeniya Dushina, Edward Arutyunyan, Nikolai Rimsky-Korsakov, Franz Liszt, Vladimir Rebikov, Paul Pabst</td>\n",
       "    </tr>\n",
       "  </tbody>\n",
       "</table>\n",
       "</div>"
      ],
      "text/plain": [
       "                    artist  \\\n",
       "0  Wolfgang Amadeus Mozart   \n",
       "1     Ludwig van Beethoven   \n",
       "2          Johannes Brahms   \n",
       "3           Claude Debussy   \n",
       "4      Sergei Rachmaninoff   \n",
       "\n",
       "                                                                                                                                                                                                                                                                                                                                                                                                                       similar artists - model 1: low p high q  \\\n",
       "0                                    Arife Gülsen Tatu, Mozarteum Quartet Salzburg, Dominika Falger, Michael Gantvarg, Marius Briançon, German Wind Soloists, Kamil Sreter, Wolfgang Sobotka, Peter Jankovic, Harald Nerat, Saint Petersburger Soloists, Eder Quartet, Nap de Klijn, Angelica Berger, János Fehérvári, Spohr Kammerorchester Kassel, Erik Smith, Milos Stevove, Vittorio Amedeo Cigna-Santi, Academy of St. Martin in the Fields Wind Ensemble   \n",
       "1                                  Xyrion Trio, Gustav Mahler Chor, Hélène Devilleune, Constantin Graf von Waldersdorff, Jean Philippe Vivier, Florian Paul, Letizia Viola, Stuttgart Philharmonic Septet, Ikuyo Nakamichi, Łukasz Romejko, TrioVanBeethoven, Edurne Santos-Arrastua, ナガノ・チェンバー・オーケストラ, Haydn Orchester von Bozen und Trient, Paavali Jumppanen, トウキョウ・モーツァルトプレーヤーズ, Susanna Ogata, European Festival Orchestra, Robert Taub, Christian Gansch   \n",
       "2                                                                                    Geoffrey Govier, Regina Frinbergs, Geoffroy Couteau, Paul Klengel, Petris Gravelis, Chubu Philharmonic Orchestra, Nima Sarkechik, Dian Baker, Sebastian Schindler, SWR Symphony Orchestra Baden-Baden, Amadeus Ensemble, Peter Katt, Günter Ludwig, Alexander Peskanov, Karl Doktor, Robert Schumann, Cyril Huvé, Jürgen Meier, Süddeutsche Philharmonie, Lotte Toftemark   \n",
       "3                                                                                                               Maurice Ravel, Julian Boutin, Leon Roques, The International String Quartet New York, Arthur Hartmann, Andre Falcon, Lutz Rath, Lenore Smith, Leita Ben Sedira, Bryn Lewis, Choeurs De Lyon, Richard Weiss, Odette Pigault, Stephanie Moraly, Francette Bartholomee, Wei-Fang Gu, Yuval Kaminkovsky, Alexandre Doisy, Ann Hobson, Luc Dedreuil   \n",
       "4  Janet Guggenheim, Oleg Shepel, Michael Grebanier, Dmitry Ivanchey, Voronezh Chamber Choir, Svetlana Volkova, USSR TV and Radio Large Chorus, Eugen Antoni, Marianna Christos, Walter Plante, Igor Golovchin, Annamaria Popescu, Ruben Sevostyanov, Edvard Tchivzhel, Emilia Moskvitina, Nikolina Pankova, Grand Academic Choir of All-Union National Radio Service and Central Television Networks, Pyotr Ilyich Tchaikovsky, Pavel Chorchumov, Raisa Palmu   \n",
       "\n",
       "                                                                                                                                                                                                                                                                                                                                           similar artists - model 2: high p low q  \n",
       "0                                                             Nikolai Petukhov, Lothar Stadler, Olga Khomenko, Yevgeny Scherbino, Vladimir Reva, Linz Sinfonietta, Michael Hahn, Igor Prashchuk, Gernot Reininger, Mozarteum Kammerchor, Altenburg Boys Choir, Peter Hrncirik, Gernot Schimmel, Schretter, Reiter, Cahnbley, Paumgartner, Luiz Sebastião Juttel, Maedel, Hartschuh  \n",
       "1  Johannes Brahms, Robert Schumann, Frédéric Chopin, Franz Schubert, Wolfgang Amadeus Mozart, Franz Liszt, Matej Mestrovic, Pyotr Ilyich Tchaikovsky, Franz Joseph Haydn, Kyoko Sato, Gustav Lange, Hephzibah Menuhin With the Amadeus Quartet, Hermann Necke, Antonín Dvořák, Bice Horszowski, Donald Grant, Carl Maria von Weber, Brearley Singers, Dani Bošnjak, Maurice Ravel  \n",
       "2                 Robert Schumann, Ludwig van Beethoven, Franz Schubert, Peter Katt, Frédéric Chopin, Christian Brunnert, Gustav Lange, Annie Rozanne, Paul Roczek, Antonín Dvořák, Sergei Rachmaninoff, Pyotr Ilyich Tchaikovsky, Franz Liszt, Ruben Campos, Orchestre des Concerts Français, Edvard Grieg, Wolfgang Amadeus Mozart, Evzen Rattay, Max Reger, Simone Simon-Gérard  \n",
       "3                                                                      Maurice Ravel, Erik Satie, Gabriel Fauré, Frédéric Chopin, Camille Saint-Saëns, John Russo, Albert Roussel, René Bernier, Robert Schumann, デュティユー, Louis Aubert, Francis Poulenc, Ethel Sussman, Marcel Mihalovici, Gabriel Pierné, Franz Liszt, Darius Milhaud, Henri Dutilleux, Ernest Chausson, Ryo Noda  \n",
       "4                    Alexander Scriabin, Frédéric Chopin, Sergei Prokofiev, Mily Balakirev, Pyotr Ilyich Tchaikovsky, Franz Behr, John Russo, Abram Chasins, Alexander Glazunov, Nikolai Medtner, Klara Korkan, Timur Novokov, Николай Мясковский, Alexander Gretchaninov, Evgeniya Dushina, Edward Arutyunyan, Nikolai Rimsky-Korsakov, Franz Liszt, Vladimir Rebikov, Paul Pabst  "
      ]
     },
     "execution_count": 9,
     "metadata": {},
     "output_type": "execute_result"
    }
   ],
   "source": [
    "df = pd.read_csv(\"graph_80000/hyperparameter_tuning/pq_composers.csv\")\n",
    "df"
   ]
  },
  {
   "cell_type": "markdown",
   "metadata": {},
   "source": [
    "### Findings\n",
    "* Certain parameters may be better for individual performers and orchestras, while other parameters may be more optimal for composers. \n",
    "* One may consider building separate recommenders for individual performers, orchestras, and composers. \n",
    "* By repeating the above process for various combinations of `p` and `q` (not shown here), I ultimately decided on the following parameters:  `p` = 0.2, `q`= 4, `length` = 20, `window` = 5."
   ]
  }
 ],
 "metadata": {
  "@webio": {
   "lastCommId": null,
   "lastKernelId": null
  },
  "kernelspec": {
   "display_name": "Python 3 (ipykernel)",
   "language": "python",
   "name": "python3"
  },
  "language_info": {
   "codemirror_mode": {
    "name": "ipython",
    "version": 3
   },
   "file_extension": ".py",
   "mimetype": "text/x-python",
   "name": "python",
   "nbconvert_exporter": "python",
   "pygments_lexer": "ipython3",
   "version": "3.8.3"
  }
 },
 "nbformat": 4,
 "nbformat_minor": 4
}
