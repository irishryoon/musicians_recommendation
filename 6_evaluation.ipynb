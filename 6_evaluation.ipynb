{
 "cells": [
  {
   "cell_type": "markdown",
   "metadata": {},
   "source": [
    "# 6. Evaluation\n",
    "This notebook contains code for defining the evaluation metric for the musicians recommender.\n",
    "\n",
    "The evaluation of the embedding-based recommender is challenging as we don't have the ground truth about classical performers and their similarities. I thus decided to compare my model to the following two measures of artist similarities:\n",
    "\n",
    "1. <b>Spotify's 'related artists'</b>. These are the artists that appear on Spotify's \"fans also like\" section, which has been extracted from <a href=\"https://spotipy.readthedocs.io/en/2.13.0/?highlight=related#spotipy.client.Spotify.artist_related_artists\">Spotify community's listening history.</a> Note that artists that appear in the \"fans also like\" section mostly play the same instrument as a given artist.  \n",
    "2. <b>The artists' collaborators</b>. These are collaborators who have worked on an album together. Note that collaborators will often play distinct instruments.  \n",
    "\n",
    "For each artist, I found 20 artists with the most similar embeddings. These are the 20 artists that the recommender engine would return. I then found (a) 20 people from Spotify's 'related artists' and (b) 20 people from the artist's collaborator. I then computed <b>precision</b>, <b>recall</b>, and <b>F1 scores</b> between the 20 recommended artists and those returned by (a) and (b). We'll refer to the two F1-scores as <b>related-artist F1</b> and <b>collaborator F1</b> scores.\n",
    "\n",
    "The evaluation metrics defined in this notebook are used to select hyperparameters in notebook `6_hyperparameter_tuning.ipynb`\n",
    "\n",
    "### Summary finding\n",
    "I computed the related-artist F1 score and the collaborators F1 score for our recommender. The recommender has higher collaborator F1 score (0.317) than the related-artist F1 score (0.000). This is understandable, since node2vec finds artist embedding based on the collaboration patterns. "
   ]
  },
  {
   "cell_type": "code",
   "execution_count": null,
   "metadata": {},
   "outputs": [],
   "source": [
    "%load_ext autoreload\n",
    "%autoreload 2\n",
    "\n",
    "import networkx as nx\n",
    "import matplotlib.pyplot as plt\n",
    "import pickle\n",
    "import random\n",
    "import spotipy\n",
    "plt.style.use(\"seaborn\")\n",
    "\n",
    "from gensim.models import Word2Vec, KeyedVectors\n",
    "from musicians import *\n",
    "from spotipy.oauth2 import SpotifyClientCredentials\n",
    "from statistics import median"
   ]
  },
  {
   "cell_type": "code",
   "execution_count": 3,
   "metadata": {},
   "outputs": [],
   "source": [
    "### Load data\n",
    "# load trained model\n",
    "model = Word2Vec.load(\"graph_80000/selected_model/word2vec.model\")\n",
    "\n",
    "# load data\n",
    "with open('graph_80000/ID_name.pkl', 'rb') as f:\n",
    "    ID_name = pickle.load(f)\n",
    "\n",
    "with open('graph_80000/name_ID.pkl', 'rb') as f:\n",
    "    name_ID = pickle.load(f)\n",
    "\n",
    "# load existing graph and data\n",
    "G = nx.read_gml(\"graph_80000/graph.gml\")\n",
    "# convert edge's 'album' attribute from list to set\n",
    "for n1,n2,edge in G.edges(data=True):\n",
    "    edge['albums'] = set(edge['albums'])"
   ]
  },
  {
   "cell_type": "markdown",
   "metadata": {},
   "source": [
    "# 1. Comparison to \"related artists\" in Spotify\n",
    "* For each artist that have been visited, I used spotify's API to find the his/her related artist. "
   ]
  },
  {
   "cell_type": "markdown",
   "metadata": {},
   "source": [
    "## 1(a) Get \"related artists\"  via Spotipy\n",
    "* The following cell loads a dictionary of related_artists that have been computed in advance. \n",
    "* To create `related_artists`, run the function `get_related_artists`. \n",
    "Note that this can take a long time, and may result in a request timeout."
   ]
  },
  {
   "cell_type": "code",
   "execution_count": 4,
   "metadata": {},
   "outputs": [],
   "source": [
    "# load related_artists\n",
    "with open('graph_80000/related_artists.pkl', 'rb') as f:\n",
    "    related_artists = pickle.load(f)"
   ]
  },
  {
   "cell_type": "code",
   "execution_count": 5,
   "metadata": {
    "scrolled": true
   },
   "outputs": [
    {
     "name": "stdout",
     "output_type": "stream",
     "text": [
      "Printing related artists\n",
      "*** Artists related to Daniel Barenboim ***\n",
      "['Martha Argerich', 'Wilhelm Kempff', 'Tamás Vásáry', 'Christoph Eschenbach', 'Zoltán Kocsis', 'Stanislav Bunin', 'Vladimir Horowitz', 'Sviatoslav Richter', 'András Schiff', 'Ivo Pogorelich', 'Murray Perahia', 'Maria João Pires', 'Nelson Freire', 'Maurizio Pollini', 'Jean-Marc Luisada', 'Claudio Arrau', 'Alicia de Larrocha', 'Arturo Benedetti Michelangeli', 'Vladimir Ashkenazy', 'Anatol Ugorski'] \n",
      "\n",
      "*** Artists related to Emil Gilels ***\n",
      "['Wilhelm Backhaus', 'Martha Argerich', 'Wilhelm Kempff', 'Géza Anda', 'Vladimir Horowitz', 'Sviatoslav Richter', 'András Schiff', 'Murray Perahia', 'Maria João Pires', 'Alexis Weissenberg', 'Walter Gieseking', 'Maurizio Pollini', 'Krystian Zimerman', 'Lazar Berman', 'Mikhail Pletnev', 'Friedrich Gulda', 'Claudio Arrau', 'Alicia de Larrocha', 'Arturo Benedetti Michelangeli', 'Artur Schnabel'] \n",
      "\n",
      "*** Artists related to Mitsuko Uchida ***\n",
      "['Martha Argerich', 'Wilhelm Kempff', 'Christoph Eschenbach', 'Seong-Jin Cho', 'Ingrid Fliter', 'Géza Anda', 'Vladimir Horowitz', 'Sviatoslav Richter', 'András Schiff', 'Murray Perahia', 'Maria João Pires', 'Alfred Brendel', 'Maurizio Pollini', 'Krystian Zimerman', 'Hélène Grimaud', 'Friedrich Gulda', 'Alicia de Larrocha', 'Radu Lupu', 'Arthur Grumiaux', 'Leif Ove Andsnes'] \n",
      "\n",
      "*** Artists related to Mstislav Rostropovich ***\n",
      "['Alban Berg Quartett', 'Gidon Kremer', 'Jascha Heifetz', 'Mischa Maisky', 'János Starker', 'David Oistrakh', 'Pablo Casals', 'Anner Bylsma', 'Emerson String Quartet', 'Steven Isserlis', 'Sviatoslav Richter', 'Heinrich Schiff', 'Beaux Arts Trio', 'Jacqueline du Pré', 'Jean-Guihen Queyras', 'Truls Mørk', 'Borodin Quartet', 'Krystian Zimerman', 'Pieter Wispelwey', 'Pierre Fournier'] \n",
      "\n",
      "*** Artists related to Daniil Trifonov ***\n",
      "['Jan Lisiecki', 'Yuja Wang', 'Christoph Eschenbach', 'Zoltán Kocsis', 'Stanislav Bunin', 'Seong-Jin Cho', 'Valentina Lisitsa', 'Ivo Pogorelich', 'Nelson Freire', 'Rafał Blechacz', 'Lilya Zilberstein', 'Maurizio Pollini', 'Lazar Berman', 'Jean-Marc Luisada', 'Alice Sara Ott', 'Sergei Babayan', 'Arturo Benedetti Michelangeli', 'Vladimir Ashkenazy', 'Anatol Ugorski', 'Jorge Bolet'] \n",
      "\n",
      "*** Artists related to Evgeny Kissin ***\n",
      "['Grigory Sokolov', 'Emil Gilels', 'Martha Argerich', 'Yuja Wang', 'Seong-Jin Cho', 'Vladimir Horowitz', 'Sviatoslav Richter', 'András Schiff', 'Murray Perahia', 'Maria João Pires', 'Alfred Brendel', 'Alexander Melnikov', 'Krystian Zimerman', 'Lazar Berman', 'Arcadi Volodos', 'Hélène Grimaud', 'Arthur Rubinstein', 'Nikolai Lugansky', 'Leif Ove Andsnes', 'György Cziffra'] \n",
      "\n",
      "*** Artists related to Yuja Wang ***\n",
      "['Martha Argerich', 'Seong-Jin Cho', 'Vladimir Horowitz', 'Sviatoslav Richter', 'András Schiff', 'Ivo Pogorelich', 'Murray Perahia', 'Maria João Pires', 'Alfred Brendel', 'Krystian Zimerman', 'Lazar Berman', 'Arcadi Volodos', 'Hélène Grimaud', 'Arthur Rubinstein', 'Pierre-Laurent Aimard', 'Alice Sara Ott', 'Daniel Hope', 'Vladimir Ashkenazy', 'Jorge Bolet', 'Daniel Barenboim'] \n",
      "\n",
      "*** Artists related to Herbert von Karajan ***\n",
      "['Wilhelm Furtwängler', 'Philharmonia Orchestra', 'Bavarian Radio Symphony Orchestra', 'Staatskapelle Dresden', 'Wiener Symphoniker', 'Claudio Abbado', 'Otto Klemperer', 'New York Philharmonic', 'Mstislav Rostropovich', 'Chicago Symphony Orchestra', 'Elisabeth Schwarzkopf', 'Arturo Toscanini', 'Concertgebouworkest', 'Leonard Bernstein', 'Bruno Walter', 'Riccardo Muti', 'New Philharmonia Orchestra', 'Czech Philharmonic Orchestra', 'Dietrich Fischer-Dieskau', 'Rudolf Kempe'] \n",
      "\n",
      "*** Artists related to Berliner Philharmoniker ***\n",
      "['Mischa Maisky', 'Philharmonia Orchestra', 'Gothenburg Symphony Orchestra', 'Bavarian Radio Symphony Orchestra', 'Gewandhausorchester Leipzig', 'Staatskapelle Dresden', 'Wiener Philharmoniker', 'Philadelphia Orchestra', 'New York Philharmonic', 'Mstislav Rostropovich', 'Academy of St. Martin in the Fields', 'Boston Symphony Orchestra', 'Chicago Symphony Orchestra', 'Concertgebouworkest', 'Leonard Bernstein', 'Alfred Brendel', 'London Symphony Orchestra', 'Valery Gergiev', 'Russian National Orchestra', 'Daniel Barenboim'] \n",
      "\n",
      "*** Artists related to Wiener Philharmoniker ***\n",
      "[\"L'Orchestre de la Suisse Romande\", 'Philharmonia Orchestra', 'Gothenburg Symphony Orchestra', 'Berliner Philharmoniker', 'Gewandhausorchester Leipzig', 'Staatskapelle Dresden', 'New York Philharmonic', 'Academy of St. Martin in the Fields', 'Boston Symphony Orchestra', 'Chicago Symphony Orchestra', 'Herbert von Karajan', 'San Francisco Symphony', 'Concertgebouworkest', 'London Symphony Orchestra', 'Valery Gergiev', 'Riccardo Muti', 'Russian National Orchestra', 'Czech Philharmonic Orchestra', 'Dietrich Fischer-Dieskau', 'Daniel Barenboim'] \n",
      "\n",
      "*** Artists related to Wolfgang Amadeus Mozart ***\n",
      "['Johann Sebastian Bach', 'Sergei Rachmaninoff', 'Ludwig van Beethoven', 'Antonio Vivaldi', 'Antonín Dvořák', 'Christopher Hogwood', 'Franz Schubert', 'Maurice Ravel', 'Johannes Brahms', 'Frédéric Chopin', 'Academy of St. Martin in the Fields', 'Erik Satie', 'George Frideric Handel', 'Johann Strauss II', 'Pyotr Ilyich Tchaikovsky', 'Giacomo Puccini', 'Robert Schumann', 'Claude Debussy', 'Edvard Grieg', 'Giuseppe Verdi'] \n",
      "\n",
      "*** Artists related to Ludwig van Beethoven ***\n",
      "['Johann Sebastian Bach', 'Sergei Rachmaninoff', 'Antonio Vivaldi', 'Antonín Dvořák', 'Franz Schubert', 'Maurice Ravel', 'Wolfgang Amadeus Mozart', 'Camille Saint-Saëns', 'Johannes Brahms', 'Frédéric Chopin', 'Franz Joseph Haydn', 'Erik Satie', 'George Frideric Handel', 'Franz Liszt', 'Giacomo Puccini', 'Tomaso Albinoni', 'Robert Schumann', 'Claude Debussy', 'Edvard Grieg', 'Giuseppe Verdi'] \n",
      "\n",
      "*** Artists related to Johannes Brahms ***\n",
      "['Johann Sebastian Bach', 'Sergei Rachmaninoff', 'Ludwig van Beethoven', 'Antonín Dvořák', 'Franz Schubert', 'Maurice Ravel', 'Wolfgang Amadeus Mozart', 'Camille Saint-Saëns', 'Frédéric Chopin', 'Franz Joseph Haydn', 'Erik Satie', 'Leonard Bernstein', 'Franz Liszt', 'George Gershwin', 'Felix Mendelssohn', 'Robert Schumann', 'Claude Debussy', 'Gabriel Fauré', 'Edvard Grieg', 'Georges Bizet'] \n",
      "\n",
      "*** Artists related to Claude Debussy ***\n",
      "['Johann Sebastian Bach', 'Dmitri Shostakovich', 'Sergei Rachmaninoff', 'Ludwig van Beethoven', 'Antonio Vivaldi', 'Antonín Dvořák', 'Ralph Vaughan Williams', 'Franz Schubert', 'Maurice Ravel', 'Wolfgang Amadeus Mozart', 'Camille Saint-Saëns', 'Johannes Brahms', 'Frédéric Chopin', 'Erik Satie', 'Franz Liszt', 'George Gershwin', 'Giacomo Puccini', 'Robert Schumann', 'Edvard Grieg', 'Giuseppe Verdi'] \n",
      "\n",
      "*** Artists related to Sergei Rachmaninoff ***\n",
      "['Johann Sebastian Bach', 'Ludwig van Beethoven', 'Yuja Wang', 'Maurice Ravel', 'Wolfgang Amadeus Mozart', 'Johannes Brahms', 'Vladimir Horowitz', 'Frédéric Chopin', 'Sviatoslav Richter', 'Evgeny Kissin', 'Franz Liszt', 'Lazar Berman', 'Arthur Rubinstein', 'Pyotr Ilyich Tchaikovsky', 'Alexander Paley', 'Nikolai Lugansky', 'Robert Schumann', 'Claude Debussy', 'Edvard Grieg', 'György Cziffra'] \n",
      "\n"
     ]
    }
   ],
   "source": [
    "# print related artists for test artists\n",
    "test_artists = ['Daniel Barenboim',\n",
    "                'Emil Gilels', \n",
    "                'Mitsuko Uchida', \n",
    "                'Mstislav Rostropovich',\n",
    "                'Daniil Trifonov', \n",
    "                'Evgeny Kissin', \n",
    "                'Yuja Wang',\n",
    "                'Herbert von Karajan',\n",
    "                'Berliner Philharmoniker',\n",
    "                'Wiener Philharmoniker',\n",
    "                'Wolfgang Amadeus Mozart',\n",
    "                'Ludwig van Beethoven',\n",
    "                'Johannes Brahms',\n",
    "                'Claude Debussy',\n",
    "                'Sergei Rachmaninoff'\n",
    "               ]\n",
    "test_ID = [name_ID[item] for item in test_artists]\n",
    "print(\"Printing related artists\")\n",
    "for ID in test_ID:\n",
    "    print(\"*** Artists related to %s ***\" %ID_name[ID])\n",
    "    print([ID_name[item] for item in related_artists[ID]], '\\n')"
   ]
  },
  {
   "cell_type": "markdown",
   "metadata": {},
   "source": [
    "* Note that spotify's related artist will often (but not always) take into account the specific instrument played by the artist: Given a pianist, it will often show other related pianist. \n",
    "* In particular, given a composer, it will mostly return other famous composers."
   ]
  },
  {
   "cell_type": "markdown",
   "metadata": {},
   "source": [
    "## 1(b) Comparison of model to \"related artists\""
   ]
  },
  {
   "cell_type": "code",
   "execution_count": 6,
   "metadata": {},
   "outputs": [],
   "source": [
    "# select artists whose \"related_artist\" is nontrivial\n",
    "related_artists_nontrivial = {ID:related for (ID,related) in related_artists.items() if related != set()}\n",
    "\n",
    "# compare to related artists\n",
    "related_precisions, related_recalls, related_F1 = compute_metrics(model, related_artists_nontrivial, 20)"
   ]
  },
  {
   "cell_type": "code",
   "execution_count": 7,
   "metadata": {},
   "outputs": [
    {
     "name": "stdout",
     "output_type": "stream",
     "text": [
      "median precision:  0.0\n",
      "median recall:  0.0\n",
      "median F1: 0.000\n"
     ]
    },
    {
     "data": {
      "image/png": "[encoded data removed]",
      "text/plain": [
       "<Figure size 864x288 with 3 Axes>"
      ]
     },
     "metadata": {},
     "output_type": "display_data"
    }
   ],
   "source": [
    "# plot histograms of precisions, recalls, F1\n",
    "\n",
    "fig, ax = plt.subplots(ncols = 3, figsize = (12, 4))\n",
    "ax[0].hist(related_precisions)\n",
    "ax[0].set_title('Related-artist precisions')\n",
    "ax[1].hist(related_recalls)\n",
    "ax[1].set_title('Related-artist recalls')\n",
    "ax[2].hist(related_F1)\n",
    "ax[2].set_title('Related-artist F1 scores')\n",
    "print('median precision: ', median(related_precisions))\n",
    "print('median recall: ' , median(related_recalls))\n",
    "print('median F1: %.3f' %median(related_F1))"
   ]
  },
  {
   "cell_type": "markdown",
   "metadata": {},
   "source": [
    "The median precision, recall and F1 are all 0 because most artists scores were 0."
   ]
  },
  {
   "cell_type": "markdown",
   "metadata": {},
   "source": [
    "# 2. Comparison to collaborators\n",
    "* For each visited artist, I find their collaborators (other artists that are connected the given artist in graph G)"
   ]
  },
  {
   "cell_type": "markdown",
   "metadata": {},
   "source": [
    "## 2(a) Get list of collaborators"
   ]
  },
  {
   "cell_type": "code",
   "execution_count": 8,
   "metadata": {},
   "outputs": [],
   "source": [
    "# load list of collaborators\n",
    "with open('graph_80000/collaborators.pkl', 'rb') as f:\n",
    "    collaborators = pickle.load(f)"
   ]
  },
  {
   "cell_type": "markdown",
   "metadata": {},
   "source": [
    "To create the dictionary `collaborators`, run the following cell."
   ]
  },
  {
   "cell_type": "code",
   "execution_count": 20,
   "metadata": {},
   "outputs": [],
   "source": [
    "# for each of the 80,000 artists, find all artists that have distance 1 from the given artist\n",
    "\"\"\"\n",
    "with open('graph_80000/visited_artists.pkl', 'rb') as f:\n",
    "    visited = pickle.load(f)\n",
    "visited = set(visited)\n",
    "\n",
    "collaborators = dict()\n",
    "\n",
    "for artist in visited:\n",
    "    collaborators[artist] = set(G.neighbors(artist))\n",
    "    \n",
    "# save\n",
    "with open('graph_80000/collaborators.pkl', 'wb') as f:\n",
    "    pickle.dump(collaborators, f)\n",
    "\"\"\""
   ]
  },
  {
   "cell_type": "code",
   "execution_count": 9,
   "metadata": {},
   "outputs": [
    {
     "name": "stdout",
     "output_type": "stream",
     "text": [
      "printing collaborators\n",
      "*** Collaborators to Daniel Barenboim ***\n",
      "['Sir John Barbirolli', 'Staatskapelle Berlin', 'Yulia Deyneka', 'Matti Salminen', 'Gioachino Rossini', 'Johannes Brahms', 'Catherine Wyn-Rogers', 'Claudine Castagnol', 'Edith Mathis', 'Fundación Barenboim-Saïd/EuroArts', 'Gaston Litaize', 'Leonard Bernstein', 'Johan Botha', 'Michael Barenboim', 'Itzhak Perlman/Orchestre de Paris/Daniel Barenboim', 'Berliner Philharmoniker', 'Vladimir Ashkenazy', 'Michel Hubert', 'Marjana Lipovsek', 'Paul Dukas'] \n",
      "\n",
      "*** Collaborators to Emil Gilels ***\n",
      "['Fritz Reiner', 'Dmitri Tziganov', 'Sergei Prokofiev', 'Samuil Samosud', 'USSR State Radio and Television Symphony Orchestra', 'Daniil Shafran', 'Carl Maria von Weber', 'Karl Eliasberg', 'State Symphony Orchestra of the USSR', 'State Symphony Orchestra', 'Robert Irving', 'Mario Rossi', 'Sergei Rachmaninoff', 'Pancho Vladigerov', 'WDR Sinfonieorchester Köln', 'Manuel de Falla', 'Günter Wand', 'Ференц Лист', 'Franz Joseph Haydn', 'Philadelphia Orchestra'] \n",
      "\n",
      "*** Collaborators to Mitsuko Uchida ***\n",
      "['Kiri Te Kanawa', 'Christian Tetzlaff', 'Carl Seemann', 'Alban Berg', 'Sir Simon Rattle', 'Berliner Philharmoniker', 'Neil Black', 'Cleveland Orchestra', 'Kurt Sanderling', 'Thea King', 'David Soyer', 'Frédéric Chopin', 'Dorothea Röschmann', 'Arnold Schoenberg', 'Pierre Boulez', 'Mark Steinberg', 'Ensemble Intercontemporain', 'Concertgebouworkest', \"Robin O'Neill\", 'Bavarian Radio Symphony Orchestra'] \n",
      "\n",
      "*** Collaborators to Mstislav Rostropovich ***\n",
      "['Tikhon Khrennikov', 'Antal Doráti', 'Orchestre de Paris', 'Boris Ivanovich Tishchenko', 'Cristóbal Halffter', 'Hugh Seenan', 'Herbert Tachezi', 'Henri Dutilleux', 'Eduard Mirzoyan', 'Boris Tchaikovsky', 'Borodin Quartet', 'Heinz Holliger', 'Glynne Adams', 'Paul Plishka', 'London Philharmonic Orchestra', 'Борис Чайковский', 'Leonid Kogan', 'Mira Zakai', 'London Voices', 'Boris Khaikin'] \n",
      "\n",
      "*** Collaborators to Daniil Trifonov ***\n",
      "['Philadelphia Orchestra', 'Maximilian Hornung', 'Valery Gergiev', 'Frédéric Chopin', 'Warsaw Philharmonic Orchestra', 'Mieczysław Weinberg', 'Johann Sebastian Bach', 'Federico Mompou', 'Sergei Prokofiev', 'Wojciech Rajski', 'Hwayoon Lee', 'Mahler Chamber Orchestra', 'Antoni Wit', 'Gidon Kremer', 'Franz Liszt', 'Edvard Grieg', 'Pyotr Ilyich Tchaikovsky', 'Modest Mussorgsky', 'Nikolai Medtner', 'Daniil Grishin'] \n",
      "\n",
      "*** Collaborators to Evgeny Kissin ***\n",
      "['Johannes Brahms', 'Gabriel Fauré', 'Philharmonia Orchestra', 'Hiroshi Oshima', 'Nikolai Medtner', 'Ludwig van Beethoven', 'London Symphony Orchestra', 'Herbert von Karajan', 'Johann Sebastian Bach', 'Claudio Abbado', 'César Franck', 'Cheryl Studer', 'Christoph Willibald Gluck', 'Moscow Virtuosi', 'Franz Schubert', 'Sergei Rachmaninoff', 'Igor Stravinsky', 'Mikhail Glinka', 'RIAS Kammerchor', 'Franz Joseph Haydn'] \n",
      "\n",
      "*** Collaborators to Yuja Wang ***\n",
      "['Camille Saint-Saëns', 'Frédéric Chopin', 'Maurice Ravel', 'Christoph Willibald Gluck', 'György Ligeti', 'Domenico Scarlatti', 'Gustavo Dudamel', 'Leonidas Kavakos', 'Franz Liszt', 'Sergei Rachmaninoff', 'Los Angeles Philharmonic', 'Tonhalle Orchester Zürich', 'Franz Welser-Möst', 'Vladimir Horowitz', 'Gabriel Fauré', 'Wolfgang Amadeus Mozart', 'Alexander Scriabin', 'Isaac Albéniz', 'Benjamin Wallfisch', 'Sergei Prokofiev'] \n",
      "\n",
      "*** Collaborators to Herbert von Karajan ***\n",
      "['Franz Crass', 'Frederica von Stade', 'Jacques Offenbach', 'Laurence Dutoit', 'Carlo Forti', 'Luigi Roni', 'Julia Hamari', 'Rolando Panerai', 'Christian Ferras', 'Sabin Markov', 'Rudolf Zimmer', 'Hans Graf', 'Eleanor Lausch', 'Rosl Schwaiger', 'Sesto Bruscantini', 'Gerhard Unger', 'Carlo Maria Giulini', 'Concertgebouworkest', 'Richard Rossmayer', 'Emmanuel Chabrier'] \n",
      "\n",
      "*** Collaborators to Berliner Philharmoniker ***\n",
      "['Ferenc Friscay', 'Christa Ludwig', 'Ferdinand Leitner', 'Claudia Denningham', 'Giuseppe Verdi', 'Salvatore Cammarano', 'Benjamin Luxon', 'Kenneth Cook', 'Adrian Aeschbacher', 'Claudine Coster', 'Kurt Schreibmayer', 'Karl Christian Kohn', 'Elisabeth Höngen', 'Chor Der Staatsoper Berlin', 'Peter Hoare', 'Andrea Bönig', 'Ernst-Senff-Chor, Women Voices', 'Horst Nitsche', 'Pietro Mascagni', 'Gioachino Rossini'] \n",
      "\n",
      "*** Collaborators to Wiener Philharmoniker ***\n",
      "['Erich Kuchar', 'Anton Diakov', 'Carlo Cava', 'Anneliese Rothenberger', 'Giovanni Inghilleri', 'Ruggero Raimondi', 'Anny Schneller', 'Hilde Rössel Majdan', 'Wilhelm Franter', 'Waldemar Kmentt', 'Orchestra Sinfonica di Roma', 'Anny Felbermayer', 'Mita Vasari', 'Olaf Bär', 'Mariano Stabile', 'Lucretia West', 'George Antheil', 'Felix Mottl', 'Paul Kuen', 'Antonín Dvořák'] \n",
      "\n",
      "*** Collaborators to Wolfgang Amadeus Mozart ***\n",
      "['Südwestrundfunk Sinfonieorchester Baden-Baden und Freiburg', 'Orchesterbegleitung', 'Sheila Armstrong', 'Karl Dönch', 'アルフレッド・ブレンデル(ピアノ)', 'Karl Kohn', 'Rinaldo Zamboni', 'Renato Zanettovich', 'Nicolas Baldeyrou', 'Roman Spitzer', 'Beethoven Philharmonie', 'Jan Neander', 'Marie-Pierre Langlamet', 'Alfred Sous', 'Robert Blocker', 'Odense Symfoniorkester', 'Paul Mania', 'Laurens Woudenberg', 'Stuart Knussen', 'Pierre Cussac'] \n",
      "\n",
      "*** Collaborators to Ludwig van Beethoven ***\n",
      "['Bruno Weil', 'Robin Stapleton', 'George Lepauw', 'James P. Nichols', 'Benno Moisewitsch', 'Minnesota Orchestra', 'Sol Schoenbach', 'Sachisische Staatskapelle', 'Roos Boelsma', 'South German Radio Choir, male section', 'Gilbert Coursier', 'Folkwang Kammerorchester', 'Fromental Halévy', 'Kirsten Flagstad', 'Ferdinand Hérold', 'Agnès Postec', 'Schweizer Kammerchor', 'Thomas Hobbs', 'Royal Swedish Symphony Orchestra', 'Emmanuel Chaussade'] \n",
      "\n",
      "*** Collaborators to Johannes Brahms ***\n",
      "['Lincoln Mayorga', 'Rubén Menéndez', 'Kangho Lee', 'Orchestre National de la RTF', 'WDR Sinfonieorchester', 'Cuarteto Casals', 'Rachel Roberts', 'Peter Kopp', 'Royal Stockholm Philharmonic Orchestra', 'Vadim Repin', 'György Konrád', 'Kerstin Meyer', 'Sherman & The Darts', 'Orchestre Philharmonique de Monte-Carlo', 'Jeongmi Yoon', 'Felix Ayo', 'Naomi Zaslav', 'Yu Kosuge', 'Deborah Nemtanu', 'John McGinn'] \n",
      "\n",
      "*** Collaborators to Claude Debussy ***\n",
      "['James Galway', 'Marcel Grandjany', 'Sir Charles Groves', 'Alexander String Quartet', 'Steven Mercurio', 'David Hays', 'Arthur Greene', 'Michael Gielen', 'Uppsala Academic Chamber Choir', 'Emmanuel Pahud', 'Lily Laskine', 'Philippe Jaroussky', 'NFM Leopoldinum Orchestra', 'Kiri Te Kanawa', 'United States Marine Band', 'Yakov Kreizberg', 'Franck Leguérinel', 'Le Duo de Harpes Gioccarpa', 'Josep Fuster', 'Arve Tellefsen'] \n",
      "\n",
      "*** Collaborators to Sergei Rachmaninoff ***\n",
      "['Kaare Ørnung', 'Vladimir Ashkenazy', 'SWR Vokalensemble Stuttgart', 'Joshua Bell', 'Filippo Faes', 'Peter Arts, Arts Music Recording Rotterdam', 'Rustem Hayroudinoff', 'USSR TV and Radio Large Chorus', 'Karlis Rutentals', 'Boris Bloch', 'Katherine Austin', 'Anatol von Roessel', 'Nickolas Karousatos', 'Kun-Woo Paik', 'Patrick Chémia', 'Henrik Måwe', 'The Adiemus Singers', 'Viktoria Postnikova', 'Jacques Imbrailo', 'Wolfgang Kühnl'] \n",
      "\n"
     ]
    }
   ],
   "source": [
    "# print collaborators for test artists\n",
    "print(\"printing collaborators\")\n",
    "for ID in test_ID:\n",
    "    print(\"*** Collaborators to %s ***\" %ID_name[ID])\n",
    "    print([ID_name[item] for item in random.sample(collaborators[ID], 20)], '\\n')"
   ]
  },
  {
   "cell_type": "markdown",
   "metadata": {},
   "source": [
    "## 2(b) Comparison of model to collaborators"
   ]
  },
  {
   "cell_type": "code",
   "execution_count": 11,
   "metadata": {},
   "outputs": [],
   "source": [
    "# load trained model\n",
    "model = Word2Vec.load(\"graph_80000/selected_model/word2vec.model\")"
   ]
  },
  {
   "cell_type": "code",
   "execution_count": 12,
   "metadata": {},
   "outputs": [],
   "source": [
    "collaborator_precisions, collaborator_recalls, collaborator_F1 = compute_metrics(model, collaborators, 20)"
   ]
  },
  {
   "cell_type": "code",
   "execution_count": 13,
   "metadata": {},
   "outputs": [
    {
     "name": "stdout",
     "output_type": "stream",
     "text": [
      "median precision: 0.350\n",
      "median recall: 0.286\n",
      "median F1: 0.286\n"
     ]
    },
    {
     "data": {
      "image/png": "[encoded data removed]",
      "text/plain": [
       "<Figure size 864x288 with 3 Axes>"
      ]
     },
     "metadata": {},
     "output_type": "display_data"
    }
   ],
   "source": [
    "# plot histograms of precisions, recalls, F1 (OLD model (original))\n",
    "\n",
    "fig, ax = plt.subplots(ncols = 3, figsize = (12, 4))\n",
    "ax[0].hist(collaborator_precisions)\n",
    "ax[0].set_title('Collaborator precisions')\n",
    "ax[1].hist(collaborator_recalls)\n",
    "ax[1].set_title('Collaborator recalls')\n",
    "ax[2].hist(collaborator_F1)\n",
    "ax[2].set_title('Collaborator F1 scores')\n",
    "print('median precision: %.3f' %median(collaborator_precisions))\n",
    "print('median recall: %.3f'  %median(collaborator_recalls))\n",
    "print('median F1: %.3f' %median(collaborator_F1))"
   ]
  },
  {
   "cell_type": "markdown",
   "metadata": {},
   "source": [
    "* Since the node2vec method finds artist embeddings based on the collaboration patterns, it's understandable that it has a better performance when compared to the list of collaborators."
   ]
  }
 ],
 "metadata": {
  "kernelspec": {
   "display_name": "Python 3 (ipykernel)",
   "language": "python",
   "name": "python3"
  },
  "language_info": {
   "codemirror_mode": {
    "name": "ipython",
    "version": 3
   },
   "file_extension": ".py",
   "mimetype": "text/x-python",
   "name": "python",
   "nbconvert_exporter": "python",
   "pygments_lexer": "ipython3",
   "version": "3.8.3"
  }
 },
 "nbformat": 4,
 "nbformat_minor": 4
}
