{
 "cells": [
  {
   "cell_type": "markdown",
   "metadata": {},
   "source": [
    "# 4. Artist embedding via node2vec\n",
    "In this notebook, I find the vector representations of artists using [node2vec](https://snap.stanford.edu/node2vec/), which finds vector representations of nodes in a graph via the following processes:  \n",
    "   1. Generate (biased) random walks on the graph.   \n",
    "   2. Apply word2vec on the random walks.   \n",
    "   \n",
    "Note that this section shows the training process for a specific set of hyperparameters. See notebooks `5_evaluation_metric.ipynb` and `6_hyperparameter_tuning.ipynb` for details on the hyperparameter selection.\n",
    "\n",
    "### Contents\n",
    "1. Preparation for random walk generation\n",
    "2. Generate random walks\n",
    "3. Train Word2vec \n",
    "4. Examine embeddings  "
   ]
  },
  {
   "cell_type": "code",
   "execution_count": null,
   "metadata": {},
   "outputs": [],
   "source": [
    "%load_ext autoreload\n",
    "%autoreload 2\n",
    "import matplotlib.pyplot as plt\n",
    "import networkx as nx\n",
    "import pickle\n",
    "plt.style.use(\"seaborn\")\n",
    "\n",
    "from gensim.models import Word2Vec, KeyedVectors\n",
    "from gensim.models.callbacks import CallbackAny2Vec\n",
    "from stellargraph import StellarGraph\n",
    "from musicians import *"
   ]
  },
  {
   "cell_type": "code",
   "execution_count": 2,
   "metadata": {},
   "outputs": [],
   "source": [
    "### load data\n",
    "G = nx.read_gml(\"graph_80000/graph.gml\")\n",
    "# convert edge's 'album' attribute from list to set\n",
    "for n1,n2,edge in G.edges(data=True):\n",
    "    edge['albums'] = set(edge['albums'])\n",
    "\n",
    "# load ID:name dictionary\n",
    "with open('graph_80000/ID_name.pkl', 'rb') as f:\n",
    "    ID_name = pickle.load(f)\n",
    "with open('graph_80000/name_ID.pkl', 'rb') as f:\n",
    "    name_ID = pickle.load(f)    \n",
    "    \n",
    "# load visited artists\n",
    "with open('graph_80000/visited_artists.pkl', 'rb') as f:\n",
    "    visited = pickle.load(f)\n",
    "visited = set(visited)\n"
   ]
  },
  {
   "cell_type": "markdown",
   "metadata": {},
   "source": [
    "# 1 Preparation for random walk generation\n",
    "* I prepared the graph G for [StellarGraph](https://stellargraph.readthedocs.io/en/stable/), which is used to generate the random walks\n",
    "* I wrote a function to customize the random walk generation process so that more random walks are sampled for artists with higher degrees. "
   ]
  },
  {
   "cell_type": "markdown",
   "metadata": {},
   "source": [
    "## 1(a) Normalize edge weights to [0,1]  \n",
    "* StellarGraph's Biased Random Walk requires the edge weights to be between 0 and 1. (If edge weights are greater than 1, then the biased random walk only generates a walk of length 1 for q > 1)"
   ]
  },
  {
   "cell_type": "code",
   "execution_count": 3,
   "metadata": {},
   "outputs": [],
   "source": [
    "# find maximum edge weight\n",
    "weights = []\n",
    "for n1, n2, e in G.edges(data = True):\n",
    "    weights.append(e['weight'])\n",
    "max_weight = max(weights)\n",
    "\n",
    "# normalize\n",
    "for n1, n2, e in G.edges(data = True):\n",
    "    e['weight'] = e['weight']/max_weight\n",
    "    \n",
    "# convert networkx graph to stellargraph \n",
    "G_s = StellarGraph.from_networkx(G)"
   ]
  },
  {
   "cell_type": "markdown",
   "metadata": {},
   "source": [
    "## 1(b) Customize random walk generation\n",
    "\n",
    "#### Problem\n",
    "* If we provide an integer `n`, the default StellarGraph random walk generator will sample `n` number of random walks for each node in G.  \n",
    "* This resulted in a problem in which the embeddings were highly sensitive to nodes with low degree. \n",
    "* For example, let's say artists A and B have one collaborative project together. Artist A may be an established artist with 1000 collaborators, while artist B may be a beginning artist with only one collaborator.  Any random walk originating from B will always be of the form [B, A, ...]. If we sample `n` random walks from A and B, then in at least 50% of the sampled random walks, the pair (A,B) will occur as immediate neighbors. As a result, A and B will be embedded extremely close to one another. In fact, artist B will appear as the most similar artist to A, even though artist A may have another collaborator C with more collaborative projects. \n",
    "\n",
    "#### Solution\n",
    "* I wrote a custom function so that the number of random walks sampled from a node is proportional to the degree of the node."
   ]
  },
  {
   "cell_type": "markdown",
   "metadata": {},
   "source": [
    "Examine the degrees"
   ]
  },
  {
   "cell_type": "code",
   "execution_count": 4,
   "metadata": {},
   "outputs": [
    {
     "data": {
      "image/png": "[encoded data removed]",
      "text/plain": [
       "<Figure size 576x396 with 1 Axes>"
      ]
     },
     "metadata": {},
     "output_type": "display_data"
    },
    {
     "name": "stdout",
     "output_type": "stream",
     "text": [
      "maximum degree:  11679\n",
      "minimum degree:  1\n"
     ]
    }
   ],
   "source": [
    "# visualize the degree\n",
    "degrees = dict(G.degree()).values()\n",
    "\n",
    "plt.hist(degrees, bins = 1000)\n",
    "plt.xlim(0, 200)\n",
    "plt.title(\"Degrees\")\n",
    "plt.show()\n",
    "\n",
    "print('maximum degree: ', max(degrees))\n",
    "print('minimum degree: ', min(degrees))"
   ]
  },
  {
   "cell_type": "code",
   "execution_count": 5,
   "metadata": {},
   "outputs": [
    {
     "name": "stdout",
     "output_type": "stream",
     "text": [
      "artists with high degree\n",
      "['Robert Schumann', 'Felix Mendelssohn', 'Sergei Prokofiev', 'Claude Debussy', 'Maurice Ravel', 'Igor Stravinsky', 'Johann Sebastian Bach', 'Wolfgang Amadeus Mozart', 'Wiener Philharmoniker', 'Ludwig van Beethoven', 'Franz Joseph Haydn', 'Pyotr Ilyich Tchaikovsky', 'Francis Poulenc', 'Manuel de Falla', 'Franz Liszt', 'Johannes Brahms', 'Carl Maria von Weber', 'Sergei Rachmaninoff', 'Franz Schubert', 'London Philharmonic Orchestra', 'Philharmonia Orchestra', 'Frédéric Chopin', 'Unknown Artist', 'Camille Saint-Saëns', 'Dmitri Shostakovich', 'Alexander Borodin', 'Gabriel Fauré', 'Béla Bartók', 'Bedřich Smetana', 'George Frideric Handel', 'Anonymous', 'Royal Philharmonic Orchestra', 'London Symphony Orchestra', 'Bavarian Radio Symphony Orchestra', 'Munich Radio Orchestra', 'Edvard Grieg', 'Hector Berlioz', 'Charles Gounod', 'Gustav Holst', 'Modest Mussorgsky', 'Gustav Mahler', 'Georges Bizet', 'Jules Massenet', 'Vienna State Opera Orchestra', 'Vienna State Opera Chorus', 'Antonio Vivaldi', 'Leonard Bernstein', 'Nikolai Rimsky-Korsakov', 'Richard Strauss', 'Arnold Schoenberg', 'English Chamber Orchestra', 'Bavarian Radio Chorus', 'Johann Strauss II', 'Richard Wagner', 'Giuseppe Verdi', 'Giacomo Puccini', 'Antonín Dvořák', 'Edward Elgar', 'Jean Sibelius', 'Gioachino Rossini', 'Christoph Willibald Gluck', 'Ruggero Leoncavallo', 'Pietro Mascagni', 'César Franck', 'Jacques Offenbach', 'Leoš Janáček', 'Henry Purcell', 'Ralph Vaughan Williams', 'Franz Lehár', 'George Gershwin', 'Samuel Barber', 'Gaetano Donizetti', 'Vincenzo Bellini', 'Claudio Monteverdi', 'Niccolò Paganini', 'Benjamin Britten', 'Carl Philipp Emanuel Bach', 'Darius Milhaud', 'Paul Hindemith', 'Léo Delibes', 'Georg Philipp Telemann', 'Fritz Kreisler', 'Anonymous\\xa0', 'Traditional', 'Umberto Giordano', 'Giacomo Meyerbeer', 'Various Artists', 'Studio Orchestra']\n"
     ]
    }
   ],
   "source": [
    "# Who are the artists with degree > 1000?\n",
    "high_degree = []\n",
    "for (key, item) in dict(G.degree()).items():\n",
    "    if item > 1000:\n",
    "        high_degree.append(key)\n",
    "print(\"artists with high degree\")\n",
    "print([ID_name[item] for item in high_degree])"
   ]
  },
  {
   "cell_type": "code",
   "execution_count": 6,
   "metadata": {},
   "outputs": [
    {
     "name": "stdout",
     "output_type": "stream",
     "text": [
      "artists with high degree\n",
      "['Johann Sebastian Bach', 'Wolfgang Amadeus Mozart', 'Ludwig van Beethoven', 'Pyotr Ilyich Tchaikovsky', 'Johannes Brahms', 'Franz Schubert', 'George Frideric Handel', 'Anonymous', 'Giuseppe Verdi', 'Traditional']\n"
     ]
    }
   ],
   "source": [
    "# Who are the artists with degree higher than 5000?\n",
    "high_degree = []\n",
    "for (key, item) in dict(G.degree()).items():\n",
    "    if item > 5000:\n",
    "        high_degree.append(key)\n",
    "print(\"artists with high degree\")\n",
    "print([ID_name[item] for item in high_degree])"
   ]
  },
  {
   "cell_type": "markdown",
   "metadata": {},
   "source": [
    "<b> Group artists according to the following </b>\n",
    "* 1 <= degree < 5\n",
    "* 5 <= degree < 25\n",
    "* 25 <= degree < 50\n",
    "* 50 <= degree < 100\n",
    "* 100 <= degree < 200\n",
    "* 200 <= degree < 500\n",
    "* 500 <= degree < 1000\n",
    "* 1000 <= degree < 5000\n",
    "* 5000 <= degree "
   ]
  },
  {
   "cell_type": "code",
   "execution_count": 7,
   "metadata": {},
   "outputs": [],
   "source": [
    "artists_by_degree = {}\n",
    "cutoffs = [1, 5, 25, 50, 100, 200, 500, 1000, 5000]\n",
    "for i in cutoffs:\n",
    "    artists_by_degree[i] = []\n",
    "\n",
    "for (artist, d) in dict(G.degree()).items():\n",
    "    if artist in visited:\n",
    "        # find maximum cutoff value less than d \n",
    "        threshold = 1\n",
    "        for i in cutoffs:\n",
    "            if d >= i:\n",
    "                threshold = i\n",
    "            else:\n",
    "                break\n",
    "\n",
    "        artists_by_degree[threshold].append(artist)"
   ]
  },
  {
   "cell_type": "markdown",
   "metadata": {},
   "source": [
    "<b> Choose the number of random walks to sample for artists in each group. </b>\n",
    "* `n_walks_by_degree`: (dict)\n",
    "* `n_walks_by_degree[i] = [j]`: For each artist in `artists_by_degree[i]`, there will be `j` number of random walks sampled with the given artist as the initial node. \n",
    "* I decided to use the relation `j = int(i ** 1.2)`"
   ]
  },
  {
   "cell_type": "code",
   "execution_count": 8,
   "metadata": {},
   "outputs": [],
   "source": [
    "n_walks_by_degree = {}\n",
    "# specify the number of walks for artists in each degree group\n",
    "for deg in artists_by_degree.keys():\n",
    "    n_walks_by_degree[deg] = int(deg**1.2)"
   ]
  },
  {
   "cell_type": "markdown",
   "metadata": {},
   "source": [
    "The function `sample_random_walks` in `musicians.py` implements the custom random walk generation process. If an artist `A` belongs to group `i` (that is, `A` is in `artists_by_degree[i]`), then sample `n_walks_by_degree[i]` number of random walks from artist `A`."
   ]
  },
  {
   "cell_type": "markdown",
   "metadata": {},
   "source": [
    "# 2 Generate random walks\n",
    "\n",
    "The random walk depends mainly on two parameters: the return parameter `p` and the in-out `q`, which control how quickly the random walk expands out of the starting node. A high value of `p` encourages exploration away from already-visited nodes, while a low value of `p` keeps the walk close to the starting node. A high value of `q` biases the random walk towards close nodes, while a low value of `q` encourages the random walk to explore nodes further away from the starting node. \n",
    "\n",
    "* Selected parameters\n",
    "    * p = 3.8\n",
    "    * q = 1.7\n",
    "    * length = 15  \n",
    "    \n",
    "Note that these parameters have been selected after hyperparameter tuning. "
   ]
  },
  {
   "cell_type": "code",
   "execution_count": 9,
   "metadata": {},
   "outputs": [],
   "source": [
    "# load artists_by_degree dictionary\n",
    "with open(\"graph_80000/artist_by_degree.pkl\", \"rb\") as f:\n",
    "    artists_by_degree = pickle.load(f)\n",
    "    \n",
    "# specify number of walks per degree\n",
    "n_walks_by_degree = {}\n",
    "for deg in artists_by_degree.keys():\n",
    "    n_walks_by_degree[deg] = int(deg**1.2)\n"
   ]
  },
  {
   "cell_type": "markdown",
   "metadata": {},
   "source": [
    "<font color=\"red\">NOTE</font>: The following cell generates random walks, but it can take a long time. Instead of generating random walks, one can load a pre-generated random walk.\n"
   ]
  },
  {
   "cell_type": "markdown",
   "metadata": {},
   "source": [
    "## Load saved random walk"
   ]
  },
  {
   "cell_type": "code",
   "execution_count": 10,
   "metadata": {},
   "outputs": [
    {
     "name": "stdout",
     "output_type": "stream",
     "text": [
      "Number of random walks: 3301785\n"
     ]
    },
    {
     "data": {
      "text/plain": [
       "'\\n# generate random walks \\np = 0.2\\nq = 4\\nlength = 20\\nwalks = sample_random_walks(G_s, artists_by_degree, n_walks_by_degree, p = p, q = q, length = length)\\n'"
      ]
     },
     "execution_count": 10,
     "metadata": {},
     "output_type": "execute_result"
    }
   ],
   "source": [
    "# load generated random walks\n",
    "file = open(\"graph_80000/selected_model/random_walk.pkl\",'rb')\n",
    "walks = pickle.load(file)\n",
    "file.close()\n",
    "\n",
    "print(\"Number of random walks: %d\" %len(walks))\n",
    "\n",
    "# This random walk was generated by running the following\n",
    "\"\"\"\n",
    "# generate random walks \n",
    "p = 0.2\n",
    "q = 4\n",
    "length = 20\n",
    "walks = sample_random_walks(G_s, artists_by_degree, n_walks_by_degree, p = p, q = q, length = length)\n",
    "\"\"\""
   ]
  },
  {
   "cell_type": "markdown",
   "metadata": {},
   "source": [
    "# 3 Train Word2Vec on sampled random walks\n",
    "I used [gensim](https://radimrehurek.com/gensim/) to train a Word2Vec model.  \n",
    "This results in a 300-dimensional vector representation for each artist."
   ]
  },
  {
   "cell_type": "code",
   "execution_count": 11,
   "metadata": {},
   "outputs": [],
   "source": [
    "# create custom callbacks for Word2Vec training\n",
    "class MonitorCallback(CallbackAny2Vec):\n",
    "    # print training loss after each epoch\n",
    "    def __init__(self):\n",
    "        self.epoch = 0\n",
    "        self.train_loss = []\n",
    "\n",
    "    def on_epoch_end(self, model):\n",
    "        # Compute training loss difference from last training\n",
    "        # Necessary because gensim only returns a cumulative loss, and not the training loss after each epoch\n",
    "        loss = model.get_latest_training_loss()\n",
    "        if self.epoch == 0:\n",
    "            print('Loss after epoch {}: {}'.format(self.epoch, loss))\n",
    "            self.train_loss.append(loss)\n",
    "        else:\n",
    "            print('Loss after epoch {}: {}'.format(self.epoch, loss- self.loss_previous_step))\n",
    "            self.train_loss.append(loss-self.loss_previous_step)\n",
    "        self.epoch += 1\n",
    "        self.loss_previous_step = loss\n",
    "            \n",
    "class EpochSaver(CallbackAny2Vec):\n",
    "    # Save model at the end of epoch    \n",
    "    def __init__(self, path):\n",
    "        self.path = path\n",
    "        self.epoch = 0\n",
    "\n",
    "    def on_epoch_end(self, model):\n",
    "        output_path = '{}_epoch{}.model'.format(self.path, self.epoch)\n",
    "        model.save(output_path)\n",
    "        self.epoch += 1\n"
   ]
  },
  {
   "cell_type": "code",
   "execution_count": 13,
   "metadata": {},
   "outputs": [
    {
     "name": "stdout",
     "output_type": "stream",
     "text": [
      "Loss after epoch 0: 23348080.0\n",
      "Loss after epoch 1: 12783072.0\n",
      "Loss after epoch 2: 9646968.0\n",
      "Loss after epoch 3: 9363660.0\n",
      "Loss after epoch 4: 9120652.0\n",
      "Loss after epoch 5: 5034688.0\n",
      "Loss after epoch 6: 2994784.0\n",
      "Loss after epoch 7: 2718160.0\n",
      "Loss after epoch 8: 2404688.0\n",
      "Loss after epoch 9: 2061584.0\n"
     ]
    }
   ],
   "source": [
    "# parameters\n",
    "vector_size = 300\n",
    "window = 5\n",
    "min_count = 100\n",
    "sg = 0\n",
    "epochs = 10\n",
    "\n",
    "# callbacks\n",
    "monitor = MonitorCallback()\n",
    "save_model = EpochSaver('graph_80000/models_training/word2vec')\n",
    "\n",
    "# train\n",
    "model = Word2Vec(walks, vector_size = vector_size, window= window, min_count= min_count, sg= sg, \n",
    "                 workers=2, epochs = epochs,\n",
    "                compute_loss = True, callbacks = [monitor, save_model])"
   ]
  },
  {
   "cell_type": "code",
   "execution_count": 14,
   "metadata": {},
   "outputs": [
    {
     "data": {
      "image/png": "[encoded data removed]",
      "text/plain": [
       "<Figure size 576x396 with 1 Axes>"
      ]
     },
     "metadata": {},
     "output_type": "display_data"
    }
   ],
   "source": [
    "# plot training loss after epoch\n",
    "plt.plot(monitor.train_loss)\n",
    "plt.title(\"training loss\")\n",
    "plt.show()"
   ]
  },
  {
   "cell_type": "markdown",
   "metadata": {},
   "source": [
    "* Note that it's impossible to create a CV set and monitor the CV loss when training a self-supervised model like word2vec. \n",
    "* In order to prevent 'overfitting', I choose the optimal number of epochs to be the point at which training loss stops improving.\n",
    "* Based on the plot of training loss above, I selected the model after epoch 6. (note that the exact epoch number may vary for each training session)"
   ]
  },
  {
   "cell_type": "code",
   "execution_count": null,
   "metadata": {},
   "outputs": [],
   "source": [
    "# model = Word2Vec.load(\"graph_80000/models_training/word2vec_epoch6.model\")"
   ]
  },
  {
   "cell_type": "markdown",
   "metadata": {},
   "source": [
    "<b> Save selected model </b>"
   ]
  },
  {
   "cell_type": "code",
   "execution_count": 22,
   "metadata": {},
   "outputs": [],
   "source": [
    "\"\"\"\n",
    "model_directory = \"graph_80000/selected_model\"\n",
    "\n",
    "# save artists degree cutoff and the number of walks generated for each artists in the cutoff group\n",
    "with open(model_directory + '/num_walks_by_degree.pkl', 'wb') as f:\n",
    "    pickle.dump(n_walks_by_degree, f)\n",
    "    \n",
    "# save parameters used for generating the random walk\n",
    "random_walk_param = {\"p\": p,\n",
    "                    \"q\": q,\n",
    "                    \"length\": length}\n",
    "\n",
    "with open(model_directory + '/random_walk_parameters.pkl', 'wb') as f:\n",
    "    pickle.dump(random_walk_param, f)\n",
    "    \n",
    "# save parameters used for word2vec training\n",
    "word2vec_param = {\"vector_size\": vector_size,\n",
    "                       \"window\": window,\n",
    "                       \"min_count\": min_count,\n",
    "                       \"sg\": sg,\n",
    "                       \"epochs\": epochs}\n",
    "with open(model_directory + '/word2vec_param.pkl', 'wb') as f:\n",
    "    pickle.dump(word2vec_param, f)\n",
    "    \n",
    "# save model \n",
    "model.save(model_directory + '/word2vec.model')\n",
    "\n",
    "# save WordVectors for smaller and faster object\n",
    "model.wv.save(model_directory + \"/word2vec.wordvectors\")\n",
    "\"\"\""
   ]
  },
  {
   "cell_type": "markdown",
   "metadata": {},
   "source": [
    "# 4 Examine embeddings of example artists\n",
    "For each example artist, find performers with similar vector representations."
   ]
  },
  {
   "cell_type": "code",
   "execution_count": 7,
   "metadata": {},
   "outputs": [],
   "source": [
    "# load selected model\n",
    "model = Word2Vec.load(\"graph_80000/selected_model/word2vec.model\")\n",
    "\n",
    "# load name:ID\n",
    "with open('graph_80000/name_ID.pkl', 'rb') as f:\n",
    "    name_ID = pickle.load(f)   \n",
    "    \n",
    "# load ID:name\n",
    "with open('graph_80000/ID_name.pkl', 'rb') as f:\n",
    "    ID_name = pickle.load(f)"
   ]
  },
  {
   "cell_type": "code",
   "execution_count": 8,
   "metadata": {},
   "outputs": [],
   "source": [
    "# list of artists to examine\n",
    "test_artists = ['Daniel Barenboim',\n",
    "                'Emil Gilels', \n",
    "                'Mitsuko Uchida', \n",
    "                'Mstislav Rostropovich',\n",
    "                'Daniil Trifonov', \n",
    "                'Evgeny Kissin', \n",
    "                'Yuja Wang',\n",
    "                'Herbert von Karajan',\n",
    "                'Berliner Philharmoniker',\n",
    "                'Wiener Philharmoniker',\n",
    "                'Wolfgang Amadeus Mozart',\n",
    "                'Ludwig van Beethoven',\n",
    "                'Johannes Brahms'\n",
    "               ]\n",
    "\n",
    "test_ID = [name_ID[item] for item in test_artists]"
   ]
  },
  {
   "cell_type": "code",
   "execution_count": 9,
   "metadata": {},
   "outputs": [
    {
     "name": "stdout",
     "output_type": "stream",
     "text": [
      "***** 20 most similar artists to Daniel Barenboim *****\n",
      "['Jacqueline du Pré', 'West-Eastern Divan Orchestra', 'Orchestre de Paris', 'Pinchas Zukerman', 'Gunter von Kannen', 'Waltraud Meier', 'Michael Barenboim', 'Christoph Eschenbach', 'Chicago Symphony Orchestra', 'Staatskapelle Berlin', 'Kian Soltani', 'Gustavo Dudamel', 'Charles Rosen', 'Anja Harteros', 'Arthur Oldham', 'Katherina Kammerloher', 'Vokalensemble Kölner Dom', 'Marc Neikrug', 'Itzhak Perlman', 'René Pape'] \n",
      "\n",
      "***** 20 most similar artists to Emil Gilels *****\n",
      "['Leonid Kogan', 'Daniil Shafran', 'Sviatoslav Richter', 'Kirill Kondrashin', 'USSR State Symphony Orchestra', 'Yakov Zak', 'Yakov Flier', 'David Oistrakh', 'Julius Katchen', 'Emil Giles', 'Van Cliburn', 'Pianozone', 'Heinrich Neuhaus', 'Hisako Kawamura', 'Elena Gilels', 'Anton Ginsburg', 'Maria Yudina', 'Leningrad Philharmonic Orchestra', 'Mstislav Rostropovich', 'Shura Cherkassky'] \n",
      "\n",
      "***** 20 most similar artists to Mitsuko Uchida *****\n",
      "['Benjamin Hochman', 'Radu Lupu', 'Murray Perahia', 'Hiroko Ehara', 'Grumiaux Trio', 'Christian Zacharias', 'Andreas Haefliger', 'Naum Grubert', 'German Wind Soloists', 'Claude Frank', 'Peter Serkin', 'Kian Soltani', 'Peter Schmalfuss', 'Wiener Schubert Trio', 'Keiko Toyama', 'Ingrid Haebler', 'Suske Quartett', 'Peter Frankl', 'Members Of The Wiener Oktett', 'Kyoko Tabe'] \n",
      "\n",
      "***** 20 most similar artists to Mstislav Rostropovich *****\n",
      "['Katherine Austin', 'Leonid Kogan', 'Borodin Quartet', 'USSR State Radio and Television Symphony Orchestra', 'Yuri Bashmet', 'Sviatoslav Richter', 'Santiago Canon Valencia', 'Galina Vishnevskaya', 'Gennady Rozhdestvensky', 'David Oistrakh', 'Emil Gilels', 'Vladimir Feltsman', 'Emil Giles', 'Kirill Kondrashin', 'Alexander Dedyukhin', 'Moscow Philharmonic Orchestra', 'Alexei Zybtsev', 'Дмитрий Шостакович', 'Daniil Shafran', 'Maxim Vengerov'] \n",
      "\n",
      "***** 20 most similar artists to Daniil Trifonov *****\n",
      "['Adriel Gomez-Mansur', 'Igor Tchetuev', 'Haochen Zhang', 'Yulianna Avdeeva', 'Simon Barere', 'Olga Kern', 'Alexandre Dossin', 'Daniel Pollack', 'Sophia Agranovich', 'Olga Scheps', 'Agustin Anievas', 'Georgijs Osokins', 'Henrik Måwe', 'Yuri Rozum', 'Marta Deyanova', 'Gianluca Imperato', 'George Li', 'Ervin Nyiregyhazi', 'Idil Biret', 'Vladimir Sofronitsky'] \n",
      "\n",
      "***** 20 most similar artists to Evgeny Kissin *****\n",
      "['Vladimir Feltsman', 'Shura Cherkassky', 'Ivo Pogorelich', 'Arcadi Volodos', 'Boris Bloch', 'Julius-Jeongwon Kim', 'Vladimir Sofronitsky', 'Haochen Zhang', 'Lazar Berman', 'Jean Duplessis', 'Andreas Mühlen', 'YUNDI', 'Stéphane Blet', 'Daniel Pollack', 'Idil Biret', 'Anatol Ugorski', 'Moring Classic', 'Martha Argerich', 'Van Cliburn', 'Peter Orth'] \n",
      "\n",
      "***** 20 most similar artists to Yuja Wang *****\n",
      "['Yuki Nakajima', 'Michel Block', 'Ivo Pogorelich', 'Vanessa Benelli Mosell', 'Lise de la Salle', 'Wibi Soerjadi', 'Vadym Kholodenko', 'Florian Noack', 'Benjamin Moser', 'Gustavo Dudamel', 'John Covelli', 'Vadim Rudenko', 'Nikolai Petrov', 'Jane Coop', 'Peter Orth', 'Ruben Aharonian', 'Svetlana Safonova', 'Nikita Magaloff', 'Ervin Nyiregyhazi', 'Rafael Orozco'] \n",
      "\n",
      "***** 20 most similar artists to Herbert von Karajan *****\n",
      "['Wiener Singverein', 'Vienna State Opera Chorus', 'Wilhelm Furtwängler', 'Wiener Philharmoniker', 'Rolando Panerai', 'Elisabeth Schwarzkopf', 'Karl Böhm', 'Christa Ludwig', 'Giuseppe Zampieri', 'Zoltan Kelemen', 'Lorin Maazel', 'Walter Berry', 'Tomaso Spataro', 'Anny Felbermayer', 'Otto Edelmann', 'Eberhard Wächter', 'Erich Kunz', 'Harald Pröglhöf', 'Luisa Villa', 'Sena Jurinac'] \n",
      "\n",
      "***** 20 most similar artists to Berliner Philharmoniker *****\n",
      "['Wiener Philharmoniker', 'Berliner Philharmoniker Orchestra', 'Herbert von Karajan', 'Deutsches Symphonie-Orchester Berlin', 'Chor der Deutschen Oper Berlin', 'Chicago Symphony Orchestra', 'Bavarian Radio Symphony Orchestra', 'RIAS-Symphonie-Orchester', 'Georg Kulenkampff', 'Staatskapelle Berlin', 'Cleveland Orchestra', 'Walter Ludwig', 'Ottomar Borwitzky', 'Wolfgang Meyer', 'Concertgebouworkest', 'Berliner Symphoniker', 'Lilo Brockhaus', 'Chor der St. Hedwigs-Kathedrale Berlin', 'Thomas Brandis', 'Schweizerisches Festspielorchester'] \n",
      "\n",
      "***** 20 most similar artists to Wiener Philharmoniker *****\n",
      "['Vienna State Opera Chorus', 'Harald Pröglhöf', 'Vienna State Opera Orchestra', 'Wiener Singverein', 'Walter Berry', 'Anton Dermota', 'Ljubomir Pantscheff', 'Eberhard Wächter', 'Peter Klein', 'Lisa della Casa', 'Karl Terhal', 'Hermann Gallos', 'Jaroslav Soucek', 'Erich Majkut', 'Adolf Tomaschek', 'Waldemar Kmentt', 'Franz Bierbach', 'William Wernigk', 'Rosette Anday', 'Erich Kunz'] \n",
      "\n",
      "***** 20 most similar artists to Wolfgang Amadeus Mozart *****\n",
      "['Mozarteum Quartet Salzburg', 'Eder Quartet', 'Nap de Klijn', 'Hermann Abel', 'Stephen Simon', 'Bernd Heiser', 'Leningrad Soloists', 'Herbert Kraus', 'Erik Smith', 'Arife Gülsen Tatu', 'Wiener Mozart Ensemble', 'Salzburg Mozart Soloists', 'Wolfgang Sobotka', 'Academy of St. Martin in the Fields Wind Ensemble', 'Vienna Mozart Orchestra', 'Michail Gantvarg', 'Jozef Luptacik', 'Taki Ozawa', 'David Ernst Molnar', 'Milos Stevove'] \n",
      "\n",
      "***** 20 most similar artists to Ludwig van Beethoven *****\n",
      "['Melos Quartet Stuttgart', 'Stuttgart Philharmonic Septet', 'Bystnik Rezucha', 'Maria Grinberg', 'Ikuyo Nakamichi', 'Christian Furchtegott Gellert', 'Marco Grisanti', 'Florian Paul', 'ナガノ・チェンバー・オーケストラ', 'TrioVanBeethoven', 'Alberto Delande', 'Constantin Graf von Waldersdorff', 'Takashi Asahina', 'Gustav Mahler Chor', 'Xyrion Trio', 'Georges Solchany', 'György Éder', 'Tatyana Zagorovskaya', 'David Petrlik', 'Ottó Rácz'] \n",
      "\n",
      "***** 20 most similar artists to Johannes Brahms *****\n",
      "['Monika Henschel', 'Geoffroy Couteau', 'Irmgard Gahl', 'Andrec Jouve', 'Orchester der Württembergischen Staatsoper Stuttgart', 'Lisa Carlyna Zumpano', 'Petris Gravelis', 'Wouter Aerts', 'Uri Vardi', 'Robert Schumann', 'Peter Katt', 'Regina Frinbergs', 'Christian Kohn', 'Silke-Thora Matthies', 'Württemberg State Opera Orchestra Stuttgart', 'Eunsol Youn', 'Young-Uk Kim', 'Wilfred Tachezi', 'SWR Symphony Orchestra Baden-Baden', 'Günter Ludwig'] \n",
      "\n"
     ]
    }
   ],
   "source": [
    "# print most similar artists \n",
    "for ID in test_ID:\n",
    "    print(\"***** 20 most similar artists to %s *****\" %ID_name[ID])\n",
    "    similar = model.wv.most_similar(ID, topn= 20)\n",
    "    similar = [ID_name[item[0]] for item in similar]\n",
    "    print(similar, '\\n')"
   ]
  }
 ],
 "metadata": {
  "kernelspec": {
   "display_name": "Python 3 (ipykernel)",
   "language": "python",
   "name": "python3"
  },
  "language_info": {
   "codemirror_mode": {
    "name": "ipython",
    "version": 3
   },
   "file_extension": ".py",
   "mimetype": "text/x-python",
   "name": "python",
   "nbconvert_exporter": "python",
   "pygments_lexer": "ipython3",
   "version": "3.8.3"
  }
 },
 "nbformat": 4,
 "nbformat_minor": 4
}
